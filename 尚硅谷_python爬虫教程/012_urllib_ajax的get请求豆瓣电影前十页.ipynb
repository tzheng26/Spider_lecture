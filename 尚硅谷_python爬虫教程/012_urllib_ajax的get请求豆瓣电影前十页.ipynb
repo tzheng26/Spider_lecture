{
 "cells": [
  {
   "cell_type": "markdown",
   "metadata": {},
   "source": [
    "# urllib ajax的get请求豆瓣电影前十页\n",
    "\n"
   ]
  },
  {
   "cell_type": "code",
   "execution_count": null,
   "metadata": {},
   "outputs": [],
   "source": [
    "# https://movie.douban.com/j/chart/top_list?type=5&interval_id=100%3A90&action=&\n",
    "# start=0&limit=20\n",
    "\n",
    "# https://movie.douban.com/j/chart/top_list?type=5&interval_id=100%3A90&action=&\n",
    "# start=20&limit=20\n",
    "\n",
    "# https://movie.douban.com/j/chart/top_list?type=5&interval_id=100%3A90&action=&\n",
    "# start=40&limit=20\n",
    "\n",
    "# page      1   2   3   4\n",
    "# start    0   20  40  60\n",
    "\n",
    "# start = (page - 1) * 20\n"
   ]
  },
  {
   "cell_type": "code",
   "execution_count": 2,
   "metadata": {},
   "outputs": [],
   "source": [
    "\n",
    "# 下载豆瓣电影前10页的数据\n",
    "# (1) 请求对象的定制\n",
    "# (2) 获取响应的数据\n",
    "# (3) 数据下载到本地\n",
    "\n",
    "\n",
    "import urllib.request\n",
    "import urllib.parse\n",
    "\n",
    "\n",
    "def create_request(page):\n",
    "    base_url = 'https://movie.douban.com/j/chart/top_list?type=5&interval_id=100%3A90&action=&'\n",
    "    data = {\n",
    "        'start': (page-1) * 20,\n",
    "        'limit': 20\n",
    "    }\n",
    "    \n",
    "    data = urllib.parse.urlencode(data)\n",
    "\n",
    "    url = base_url + data\n",
    "\n",
    "    headers = {\n",
    "        'user-agent': 'Mozilla/5.0 (Macintosh; Intel Mac OS X 10_15_7) AppleWebKit/537.36 (KHTML, like Gecko) Chrome/131.0.0.0 Safari/537.36'\n",
    "    }\n",
    "\n",
    "    request = urllib.request.Request(url=url, headers=headers)\n",
    "    return request\n",
    "\n",
    "def get_content(request):\n",
    "    response = urllib.request.urlopen(request)\n",
    "    content = response.read().decode('utf-8')\n",
    "    return content\n",
    "\n",
    "def down_load(page, content):\n",
    "    with open('豆瓣电影_' + str(page) + '.json', 'w', encoding='utf-8') as fp:\n",
    "        fp.write(content)\n",
    "\n",
    "\n",
    "if __name__ == '__main__':\n",
    "    start_page = int(input('请输入起始的页码'))\n",
    "    end_page = int(input('请输入结束的页码'))\n",
    "\n",
    "    for page in range(start_page, end_page + 1):\n",
    "        # 每一页都有自己的请求对象的定制\n",
    "        request = create_request(page)\n",
    "        # 获取响应的数据\n",
    "        content = get_content(request)\n",
    "        # 数据下载到本地\n",
    "        down_load(page, content)\n"
   ]
  }
 ],
 "metadata": {
  "kernelspec": {
   "display_name": "crawler",
   "language": "python",
   "name": "python3"
  },
  "language_info": {
   "codemirror_mode": {
    "name": "ipython",
    "version": 3
   },
   "file_extension": ".py",
   "mimetype": "text/x-python",
   "name": "python",
   "nbconvert_exporter": "python",
   "pygments_lexer": "ipython3",
   "version": "3.7.12"
  }
 },
 "nbformat": 4,
 "nbformat_minor": 2
}
