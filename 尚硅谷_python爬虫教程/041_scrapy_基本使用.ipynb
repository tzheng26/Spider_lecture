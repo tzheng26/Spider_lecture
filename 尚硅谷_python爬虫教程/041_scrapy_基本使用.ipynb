{
 "cells": [
  {
   "cell_type": "markdown",
   "metadata": {},
   "source": [
    "# scrapy 基本使用"
   ]
  },
  {
   "cell_type": "code",
   "execution_count": null,
   "metadata": {
    "vscode": {
     "languageId": "shellscript"
    }
   },
   "outputs": [],
   "source": [
    "# 1. 创建scrapy项目\n",
    "# 终端输入\n",
    "scrapy startproject 项目的名称\n",
    "# 注意：项目名称不能以数字开头  也不能包含中文\n",
    "\n",
    "# e.g.，\n",
    "scrapy startproject scrapy_baidu_041"
   ]
  },
  {
   "cell_type": "code",
   "execution_count": null,
   "metadata": {
    "vscode": {
     "languageId": "shellscript"
    }
   },
   "outputs": [],
   "source": [
    "# 2. 创建爬虫文件\n",
    "# 要在spiders文件夹下创建爬虫文件\n",
    "# cd 项目的名称/项目的名称/spiders\n",
    "cd scrapy_baidu_041/scrapy_baidu_041/spiders\n",
    "# 创建爬虫文件\n",
    "# scrapy genspider 爬虫文件的名称 要爬取的网页的域名\n",
    "scrapy genspider baidu http://www.baidu.com\n",
    "# 一般情况下不需要加http://协议  \n",
    "# 因为start_urls的值是根据allowed_domains修改的  \n",
    "# 旧版本中如果添加了http的话  那么start_urls的值就需要手动修改"
   ]
  },
  {
   "cell_type": "code",
   "execution_count": null,
   "metadata": {},
   "outputs": [],
   "source": [
    "# 以上命令会在`scrapy_baidu_041/scrapy_baidu_041/spiders`目录下生成一个`baidu.py`文件\n",
    "# scrapy_baidu_041/scrapy_baidu_041/spiders/baidu.py\n",
    "\n",
    "import scrapy\n",
    "\n",
    "\n",
    "class BaiduSpider(scrapy.Spider):\n",
    "    # 爬虫的名字 一般用于运行爬虫的时候使用的值\n",
    "    name = \"baidu\"\n",
    "    # 运行访问的域名列表\n",
    "    allowed_domains = [\"www.baidu.com\"]\n",
    "\n",
    "    # 起始的url地址 指的是第一次要访问的域名\n",
    "    # start_urls 是在allowed_domains的前面添加一个http://\n",
    "    #               在allowed_domains的后面添加一个/\n",
    "    # 如果是以html结尾的地址，那么就不添加/\n",
    "    start_urls = [\"http://www.baidu.com\"]\n",
    "\n",
    "    def parse(self, response):\n",
    "        print(\"苍茫的天涯是我的爱\")\n"
   ]
  },
  {
   "cell_type": "code",
   "execution_count": null,
   "metadata": {
    "vscode": {
     "languageId": "shellscript"
    }
   },
   "outputs": [],
   "source": [
    "# 3. 运行爬虫代码\n",
    "# 命令行执行：\n",
    "scrapy crawl 爬虫的名字\n",
    "# e.g.\n",
    "scrapy crawl baidu\n",
    "\n",
    "# 发现爬虫失败，没有打印‘苍茫的天涯是我的爱’\n",
    "# 通过返回的信息\n",
    "# 2024-12-07 20:05:57 [scrapy.core.engine] DEBUG: Crawled (200) <GET http://www.baidu.com/robots.txt> (referer: None)\n",
    "# 2024-12-07 20:05:57 [scrapy.downloadermiddlewares.robotstxt] DEBUG: Forbidden by robots.txt: <GET http://www.baidu.com>\n",
    "# 发现是robots.txt文件的问题\n",
    "# 找到`scrapy_baidu_041/scrapy_baidu_041/settings.py`文件\n",
    "# 注释掉ROBOTSTXT_OBEY = True\n",
    "# 注释掉之后，就不遵守robots协议了。他是一个君子协议，一般情况下，我们不用遵守\n",
    "# 之后就能正常爬取\n"
   ]
  }
 ],
 "metadata": {
  "kernelspec": {
   "display_name": "crawler",
   "language": "python",
   "name": "python3"
  },
  "language_info": {
   "codemirror_mode": {
    "name": "ipython",
    "version": 3
   },
   "file_extension": ".py",
   "mimetype": "text/x-python",
   "name": "python",
   "nbconvert_exporter": "python",
   "pygments_lexer": "ipython3",
   "version": "3.7.12"
  }
 },
 "nbformat": 4,
 "nbformat_minor": 2
}
