{
 "cells": [
  {
   "cell_type": "markdown",
   "metadata": {
    "vscode": {
     "languageId": "plaintext"
    }
   },
   "source": [
    "# URLError\\HTTPError\n",
    "\n",
    "简介：\n",
    "1. HTTPError类是URLError类的子类\n",
    "2. 导入的包 `urllib.error.HTTPError`    `urllib.error.URLError`\n",
    "3. http错误：http错误是针对浏览器无法连接到服务器而增加出来的错误提示。引导并告诉浏览者该页是哪里出了问题。\n",
    "4. 通过rullib发送请求的时候，有可能会发送失败，这个时候如果想让你的代码更加的健壮，可以通过try-except进行捕获异常，异常有两类，URLError\\HTTPError"
   ]
  },
  {
   "cell_type": "code",
   "execution_count": null,
   "metadata": {},
   "outputs": [],
   "source": [
    "import urllib.request\n",
    "# 正确的url\n",
    "url = 'https://blog.csdn.net/sulixu/article/details/119818949'\n",
    "\n",
    "headers = {\n",
    "    'user-agent': 'Mozilla/5.0 (Macintosh; Intel Mac OS X 10_15_7) AppleWebKit/537.36 (KHTML, like Gecko) Chrome/131.0.0.0 Safari/537.36'\n",
    "}\n",
    "\n",
    "request = urllib.request.Request(url=url, headers=headers)\n",
    "\n",
    "response = urllib.request.urlopen(request)\n",
    "\n",
    "content = response.read().decode('utf-8')\n",
    "\n",
    "print(content)"
   ]
  },
  {
   "cell_type": "code",
   "execution_count": null,
   "metadata": {},
   "outputs": [],
   "source": [
    "import urllib.request\n",
    "import urllib.error\n",
    "\n",
    "# 错误的url 后面加了1\n",
    "url = 'https://blog.csdn.net/sulixu/article/details/1198189491'\n",
    "\n",
    "headers = {\n",
    "    'user-agent': 'Mozilla/5.0 (Macintosh; Intel Mac OS X 10_15_7) AppleWebKit/537.36 (KHTML, like Gecko) Chrome/131.0.0.0 Safari/537.36'\n",
    "}\n",
    "\n",
    "try:\n",
    "    request = urllib.request.Request(url=url, headers=headers)\n",
    "\n",
    "    response = urllib.request.urlopen(request)\n",
    "\n",
    "    content = response.read().decode('utf-8')\n",
    "\n",
    "    print(content)\n",
    "except urllib.error.HTTPError:\n",
    "    print('HTTPError')\n"
   ]
  },
  {
   "cell_type": "code",
   "execution_count": null,
   "metadata": {},
   "outputs": [],
   "source": [
    "import urllib.request\n",
    "import urllib.error\n",
    "\n",
    "# 错误的url 网址是错的\n",
    "url = 'https:/www.doudan111.com'\n",
    "\n",
    "headers = {\n",
    "    'user-agent': 'Mozilla/5.0 (Macintosh; Intel Mac OS X 10_15_7) AppleWebKit/537.36 (KHTML, like Gecko) Chrome/131.0.0.0 Safari/537.36'\n",
    "}\n",
    "\n",
    "try:\n",
    "    request = urllib.request.Request(url=url, headers=headers)\n",
    "\n",
    "    response = urllib.request.urlopen(request)\n",
    "\n",
    "    content = response.read().decode('utf-8')\n",
    "\n",
    "    print(content)\n",
    "except urllib.error.HTTPError:\n",
    "    print('HTTPError')\n",
    "except urllib.error.URLError:\n",
    "    print('URLError')"
   ]
  }
 ],
 "metadata": {
  "kernelspec": {
   "display_name": "crawler",
   "language": "python",
   "name": "python3"
  },
  "language_info": {
   "codemirror_mode": {
    "name": "ipython",
    "version": 3
   },
   "file_extension": ".py",
   "mimetype": "text/x-python",
   "name": "python",
   "nbconvert_exporter": "python",
   "pygments_lexer": "ipython3",
   "version": "3.7.12"
  }
 },
 "nbformat": 4,
 "nbformat_minor": 2
}
