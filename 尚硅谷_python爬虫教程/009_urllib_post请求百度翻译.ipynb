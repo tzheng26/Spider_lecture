{
 "cells": [
  {
   "cell_type": "markdown",
   "metadata": {},
   "source": [
    "# urllib post 请求百度翻译\n",
    "\n",
    "爬虫需要从找到需要的接口\n",
    "\n",
    "post 请求的参数是不会拼接在url的后面的，而是需要放在请求对象定制的data参数中"
   ]
  },
  {
   "cell_type": "code",
   "execution_count": null,
   "metadata": {},
   "outputs": [],
   "source": [
    "# post请求\n",
    " \n",
    "import urllib.request\n",
    "\n",
    "# 从F12->Network->Headers->General->Request URL中找到\n",
    "url = 'https://fanyi.baidu.com/sug'\n",
    "\n",
    "# 从F12->Network->Headers->Request Headers中找到\n",
    "headers = {\n",
    "    'user-agent': 'Mozilla/5.0 (Macintosh; Intel Mac OS X 10_15_7) AppleWebKit/537.36 (KHTML, like Gecko) Chrome/131.0.0.0 Safari/537.36'\n",
    "}\n",
    "\n",
    "# 从F12->Network->Form Data中找到\n",
    "data = {\n",
    "    'kw': 'spider'\n",
    "}"
   ]
  },
  {
   "cell_type": "code",
   "execution_count": null,
   "metadata": {},
   "outputs": [],
   "source": [
    "# post请求的参数必须要进行编码\n",
    "str_data = urllib.parse.urlencode(data) \n",
    "print(str_data) # 这里返回的data是一个字符串"
   ]
  },
  {
   "cell_type": "code",
   "execution_count": null,
   "metadata": {},
   "outputs": [],
   "source": [
    "\n",
    "# post 请求的参数是不会拼接在url的后面的，而是需要放在请求对象定制的data参数中\n",
    "# post请求的参数必须要进行编码成bytes类型\n",
    "bytes_data = urllib.parse.urlencode(data).encode('utf-8')\n",
    "request = urllib.request.Request(url=url, data=bytes_data, headers=headers)\n",
    "\n",
    "# 模拟浏览器向服务器发送请求\n",
    "response = urllib.request.urlopen(request)\n",
    "\n",
    "# 获取响应的内容\n",
    "content = response.read().decode('utf-8')\n",
    "print(content)"
   ]
  },
  {
   "cell_type": "code",
   "execution_count": null,
   "metadata": {},
   "outputs": [],
   "source": [
    "# 响应内容看不懂\n",
    "print(type(content)) # <class 'str'>"
   ]
  },
  {
   "cell_type": "code",
   "execution_count": null,
   "metadata": {},
   "outputs": [],
   "source": [
    "\n",
    "# 字符串 -> json 对象\n",
    "\n",
    "import json\n",
    "obj = json.loads(content)\n",
    "print(obj)"
   ]
  },
  {
   "cell_type": "code",
   "execution_count": null,
   "metadata": {},
   "outputs": [],
   "source": [
    "# 总结\n",
    "# post请求方式的参数必须编码                        str_data = urllib.parse.urlencode(data)\n",
    "# 编码之后必须调用encode方法转换成bytes类型          bytes_data = urllib.parse.urlencode(data).encode('utf-8')\n",
    "# post请求方式的参数必须放在请求对象定制的data参数中   request = urllib.request.Request(url=url, data=bytes_data, headers=headers)"
   ]
  }
 ],
 "metadata": {
  "kernelspec": {
   "display_name": "crawler",
   "language": "python",
   "name": "python3"
  },
  "language_info": {
   "name": "python",
   "version": "3.7.7"
  }
 },
 "nbformat": 4,
 "nbformat_minor": 2
}
