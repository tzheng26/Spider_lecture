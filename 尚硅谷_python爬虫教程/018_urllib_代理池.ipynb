{
 "cells": [
  {
   "cell_type": "markdown",
   "metadata": {},
   "source": [
    "# urllib 代理池"
   ]
  },
  {
   "cell_type": "code",
   "execution_count": null,
   "metadata": {},
   "outputs": [],
   "source": [
    "proxies_pool = [\n",
    "    {'http': '59.54.238.245:17123'},\n",
    "    {'http': '59.54.238.245:17124'},\n",
    "]\n",
    "\n",
    "import random\n",
    "\n",
    "proxies = random.choice(proxies_pool)\n",
    "\n",
    "print(proxies)"
   ]
  },
  {
   "cell_type": "code",
   "execution_count": null,
   "metadata": {},
   "outputs": [],
   "source": [
    "import urllib.request\n",
    "import random\n",
    "\n",
    "proxies_pool = [\n",
    "    {'http': '59.54.238.245:17123'},\n",
    "    {'http': '59.54.238.245:17124'},\n",
    "]\n",
    "\n",
    "proxies = random.choice(proxies_pool)\n",
    "\n",
    "print(proxies)\n",
    "\n",
    "url = 'http://www.baidu.com/s?wd=ip'\n",
    "\n",
    "headers = {\n",
    "    'user-agent': 'Mozilla/5.0 (Macintosh; Intel Mac OS X 10_15_7) AppleWebKit/537.36 (KHTML, like Gecko) Chrome/131.0.0.0 Safari/537.36'\n",
    "}\n",
    "\n",
    "request = urllib.request.Request(url=url, headers=headers)\n",
    "\n",
    "handler = urllib.request.ProxyHandler(proxies)\n",
    "\n",
    "opener = urllib.request.build_opener(handler)\n",
    "\n",
    "response = opener.open(request)\n",
    "\n",
    "content = response.read().decode('utf-8')\n",
    "\n",
    "with open('daili.html', 'w', encoding='utf-8') as fp:\n",
    "    fp.write(content)"
   ]
  }
 ],
 "metadata": {
  "kernelspec": {
   "display_name": "crawler",
   "language": "python",
   "name": "python3"
  },
  "language_info": {
   "codemirror_mode": {
    "name": "ipython",
    "version": 3
   },
   "file_extension": ".py",
   "mimetype": "text/x-python",
   "name": "python",
   "nbconvert_exporter": "python",
   "pygments_lexer": "ipython3",
   "version": "3.7.12"
  }
 },
 "nbformat": 4,
 "nbformat_minor": 2
}
