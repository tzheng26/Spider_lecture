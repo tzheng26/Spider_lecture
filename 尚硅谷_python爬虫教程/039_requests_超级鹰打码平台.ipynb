{
 "cells": [
  {
   "cell_type": "markdown",
   "metadata": {},
   "source": [
    "# requests 超级鹰打码平台\n",
    "\n",
    "很多企业级开发不是人为的写验证码\n",
    "\n",
    "需要破解验证码的平台\n",
    "\n",
    "\n",
    "https://www.bilibili.com/video/BV1Db4y1m7Ho?spm_id_from=333.788.videopod.episodes&vd_source=05c4f0b8601a487f835dda00e7ffa4ca&p=89\n",
    "\n",
    "具体使用参考网课\n"
   ]
  }
 ],
 "metadata": {
  "language_info": {
   "name": "python"
  }
 },
 "nbformat": 4,
 "nbformat_minor": 2
}
