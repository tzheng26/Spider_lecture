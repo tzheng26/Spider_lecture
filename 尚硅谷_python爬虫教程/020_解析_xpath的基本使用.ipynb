{
 "cells": [
  {
   "cell_type": "markdown",
   "metadata": {},
   "source": [
    "# 解析 xpath的基本使用\n",
    "\n",
    "安装lxml库 到python解释库中\n",
    "\n",
    "`pip install lxml -i https://pypy.douban.com/simple`"
   ]
  },
  {
   "cell_type": "code",
   "execution_count": 1,
   "metadata": {},
   "outputs": [],
   "source": [
    "from lxml import etree\n",
    "\n",
    "# xpath解析\n",
    "# (1) 本地文件                                                    etree.parse\n",
    "# (2) 服务器响应的数据 response.read().decode('utf-8') *********   etree.HTML()"
   ]
  },
  {
   "cell_type": "code",
   "execution_count": 3,
   "metadata": {},
   "outputs": [
    {
     "name": "stdout",
     "output_type": "stream",
     "text": [
      "<lxml.etree._ElementTree object at 0x7ff5cc2365f0>\n"
     ]
    }
   ],
   "source": [
    "# xpath 解析本地文件\n",
    "tree  = etree.parse('020_解析_xpath的基本使用.html')\n",
    "print(tree)\n",
    "\n",
    "# 如果报错：\n",
    "# XMLSyntaxError: Opening and ending tag mismatch: meta line 5 and head, line 7, column 8\n",
    "# 说明html文件的编码格式有问题\n",
    "# etree.parse 需要严格遵循xml规范，meta没有结束标签，所以报错\n",
    "# <meta charset=\"UTF-8\"> -> <meta charset=\"UTF-8\" />"
   ]
  },
  {
   "cell_type": "code",
   "execution_count": null,
   "metadata": {},
   "outputs": [],
   "source": [
    "\"\"\"\n",
    "tree.xpath('xpath路径')\n",
    "    1. 路径查询\n",
    "        //：查找所有子孙节点，不考虑层级关系\n",
    "        /：查找直接子节点\n",
    "    2. 谓词查询\n",
    "        //div[@id]\n",
    "        //div[@id=\"maincontent\"]\n",
    "    3.  属性查询\n",
    "        //@class\n",
    "    4. 模糊查询\n",
    "        //div[contains(@id, 'header')]\n",
    "        //div[starts-with(@id, 'he')]\n",
    "    5. 内容查询\n",
    "       //dev/h1/text()  \n",
    "    6. 逻辑运算\n",
    "       //div[@id=\"head\" and @class=\"s_down\"]\n",
    "       //title | //price \n",
    "\"\"\""
   ]
  },
  {
   "cell_type": "code",
   "execution_count": 31,
   "metadata": {},
   "outputs": [
    {
     "name": "stdout",
     "output_type": "stream",
     "text": [
      "[<Element li at 0x7f586574e820>, <Element li at 0x7f5864297140>, <Element li at 0x7f5864297f50>, <Element li at 0x7f58642978c0>, <Element li at 0x7f58642975a0>, <Element li at 0x7f5864297870>, <Element li at 0x7f5864297550>, <Element li at 0x7f5865753410>]\n",
      "8\n"
     ]
    }
   ],
   "source": [
    "\n",
    "# 查找ul下面的li\n",
    "li_list = tree.xpath('//ul/li')\n",
    "\n",
    "print(li_list)\n",
    "print(len(li_list))"
   ]
  },
  {
   "cell_type": "code",
   "execution_count": 32,
   "metadata": {},
   "outputs": [
    {
     "name": "stdout",
     "output_type": "stream",
     "text": [
      "[<Element li at 0x7f586574e820>, <Element li at 0x7f5864297140>]\n",
      "2\n"
     ]
    }
   ],
   "source": [
    "# 查找所有有id属性的li标签\n",
    "li_list = tree.xpath('//ul/li[@id]')\n",
    "\n",
    "print(li_list)\n",
    "print(len(li_list))"
   ]
  },
  {
   "cell_type": "code",
   "execution_count": 33,
   "metadata": {},
   "outputs": [
    {
     "name": "stdout",
     "output_type": "stream",
     "text": [
      "['北京', '上海']\n",
      "2\n"
     ]
    }
   ],
   "source": [
    "# text() 获取标签中的文本内容\n",
    "li_list = tree.xpath('//ul/li[@id]/text()')\n",
    "\n",
    "print(li_list)\n",
    "print(len(li_list))"
   ]
  },
  {
   "cell_type": "code",
   "execution_count": 34,
   "metadata": {},
   "outputs": [
    {
     "name": "stdout",
     "output_type": "stream",
     "text": [
      "['北京']\n",
      "1\n"
     ]
    }
   ],
   "source": [
    "# 找到id为l1的li标签  注意引号的问题\n",
    "li_list = tree.xpath('//ul/li[@id=\"l1\"]/text()')\n",
    "\n",
    "print(li_list)\n",
    "print(len(li_list))"
   ]
  },
  {
   "cell_type": "code",
   "execution_count": 35,
   "metadata": {},
   "outputs": [
    {
     "name": "stdout",
     "output_type": "stream",
     "text": [
      "['c1']\n",
      "1\n"
     ]
    }
   ],
   "source": [
    "# 查找到id为l1的li标签的class属性\n",
    "li_list = tree.xpath('//ul/li[@id=\"l1\"]/@class')\n",
    "\n",
    "print(li_list)\n",
    "print(len(li_list))"
   ]
  },
  {
   "cell_type": "code",
   "execution_count": 36,
   "metadata": {},
   "outputs": [
    {
     "name": "stdout",
     "output_type": "stream",
     "text": [
      "['北京', '上海']\n",
      "2\n"
     ]
    }
   ],
   "source": [
    "# 查询id中包含l的li标签\n",
    "li_list = tree.xpath('//ul/li[contains(@id, \"l\")]/text()')\n",
    "\n",
    "print(li_list)\n",
    "print(len(li_list))"
   ]
  },
  {
   "cell_type": "code",
   "execution_count": 37,
   "metadata": {},
   "outputs": [
    {
     "name": "stdout",
     "output_type": "stream",
     "text": [
      "['北京', '上海']\n",
      "2\n"
     ]
    }
   ],
   "source": [
    "# 查询id的值以l开头的li标签\n",
    "li_list = tree.xpath('//ul/li[starts-with(@id, \"l\")]/text()')\n",
    "\n",
    "print(li_list)\n",
    "print(len(li_list))"
   ]
  },
  {
   "cell_type": "code",
   "execution_count": null,
   "metadata": {},
   "outputs": [
    {
     "name": "stdout",
     "output_type": "stream",
     "text": [
      "['北京']\n",
      "1\n",
      "['北京', '广州']\n",
      "2\n"
     ]
    }
   ],
   "source": [
    "# 逻辑：属性与、或\n",
    "# 查询id为l1和class为c1的li标签\n",
    "li_list = tree.xpath('//ul/li[@id=\"l1\" and @class=\"c1\"]/text()')\n",
    "\n",
    "print(li_list)\n",
    "print(len(li_list))\n",
    "\n",
    "li_list = tree.xpath('//ul/li[@id=\"l1\" or @id=\"c3\"]/text()')\n",
    "\n",
    "print(li_list)\n",
    "print(len(li_list))"
   ]
  },
  {
   "cell_type": "code",
   "execution_count": 52,
   "metadata": {},
   "outputs": [
    {
     "name": "stdout",
     "output_type": "stream",
     "text": [
      "['北京', '上海']\n",
      "2\n"
     ]
    }
   ],
   "source": [
    "# 逻辑：标签或\n",
    "# 查询\n",
    "li_list = tree.xpath('//ul/li[@id=\"l1\"]/text() | //ul/li[@id=\"l2\"]/text()')\n",
    "\n",
    "print(li_list)\n",
    "print(len(li_list))"
   ]
  },
  {
   "cell_type": "code",
   "execution_count": null,
   "metadata": {},
   "outputs": [
    {
     "name": "stdout",
     "output_type": "stream",
     "text": [
      "\n",
      "        北京\n",
      "        上海\n",
      "        广州\n",
      "        深圳\n",
      "    \n"
     ]
    }
   ],
   "source": [
    "\"\"\"\n",
    "补充用法\n",
    "tree.xpath(\"string(.)\")\n",
    "    . 表示当前节点。\n",
    "    string(.) 将当前节点及其所有子节点的文本内容连接成一个字符串。\n",
    "\"\"\"\n",
    "# 提取当前节点和子节点文本内容\n",
    "ul = tree.xpath('//ul')\n",
    "ul = ul[0].xpath('string(.)')\n",
    "print(ul)"
   ]
  }
 ],
 "metadata": {
  "kernelspec": {
   "display_name": "crawler",
   "language": "python",
   "name": "python3"
  },
  "language_info": {
   "codemirror_mode": {
    "name": "ipython",
    "version": 3
   },
   "file_extension": ".py",
   "mimetype": "text/x-python",
   "name": "python",
   "nbconvert_exporter": "python",
   "pygments_lexer": "ipython3",
   "version": "3.7.7"
  }
 },
 "nbformat": 4,
 "nbformat_minor": 2
}
