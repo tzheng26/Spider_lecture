{
 "cells": [
  {
   "cell_type": "markdown",
   "metadata": {},
   "source": [
    "# selenium phatomjs的基本使用\n",
    "\n",
    "原生selenium的缺点是需要不断打开浏览器，这里面会有广告等，导致访问缓慢。\n",
    "\n",
    "所以需要使用无界面浏览器\n",
    "- phantomjs （停止更新，可以跳过）\n",
    "- headless chrome"
   ]
  },
  {
   "cell_type": "markdown",
   "metadata": {},
   "source": [
    "**什么是PhantomJS?** \n",
    "\n",
    "(1) 是一个无界面的浏览器\n",
    "\n",
    "(2) 支持页面元素查找， js等执行等\n",
    "\n",
    "(3) 由于不进行css和gui渲染，运行效率比真实的浏览器要快很多"
   ]
  },
  {
   "cell_type": "markdown",
   "metadata": {},
   "source": [
    "**如何使用PhantomJS？**\n",
    "\n",
    "(1) 获取PhantomJS.exe文件路径path\n",
    "\n",
    "(2) browser = webdriver.PhantomJS(path)\n",
    "\n",
    "(3) browser.get(url)\n",
    "\n",
    "扩展：保存屏幕快照：browser.save_screenshot('baidu.png')"
   ]
  },
  {
   "cell_type": "code",
   "execution_count": null,
   "metadata": {},
   "outputs": [],
   "source": [
    "from selenium import webdriver\n",
    "\n",
    "path = 'phantomjs.exe'\n",
    "\n",
    "driver = webdriver.PhantomJS(path)\n",
    "\n",
    "url = 'http://www.baidu.com'\n",
    "\n",
    "driver.get(url)\n",
    "\n",
    "driver.save_screenshot('baidu.png')"
   ]
  },
  {
   "cell_type": "code",
   "execution_count": null,
   "metadata": {},
   "outputs": [],
   "source": [
    "import time\n",
    "time.sleep(2)\n",
    "\n",
    "input = driver.find_element_by_id('kw')\n",
    "input.send_keys('昆凌')\n",
    "\n",
    "time.sleep(2)\n",
    "\n",
    "driver.save_screenshot('kunling.png')"
   ]
  }
 ],
 "metadata": {
  "kernelspec": {
   "display_name": "crawler",
   "language": "python",
   "name": "python3"
  },
  "language_info": {
   "name": "python",
   "version": "3.7.12"
  }
 },
 "nbformat": 4,
 "nbformat_minor": 2
}
