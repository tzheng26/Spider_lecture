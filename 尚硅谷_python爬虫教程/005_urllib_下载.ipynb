{
 "cells": [
  {
   "cell_type": "markdown",
   "metadata": {},
   "source": [
    "# urllib下载"
   ]
  },
  {
   "cell_type": "code",
   "execution_count": null,
   "metadata": {},
   "outputs": [],
   "source": [
    "import urllib.request\n",
    "\n",
    "# 下载网页\n",
    "url_page = 'http://www.baidu.com'\n",
    "# url代表下载的路径 filename代表保存的文件名\n",
    "urllib.request.urlretrieve(url_page, 'baidu.html')\n"
   ]
  },
  {
   "cell_type": "code",
   "execution_count": null,
   "metadata": {},
   "outputs": [],
   "source": [
    "\n",
    "\n",
    "# 下载图片\n",
    "url_img = 'https://www.baidu.com/img/bd_logo1.png'\n",
    "urllib.request.urlretrieve(url_img, 'baidu.png')\n"
   ]
  },
  {
   "cell_type": "code",
   "execution_count": null,
   "metadata": {},
   "outputs": [],
   "source": [
    "\n",
    "# 下载视频\n",
    "# 视频页面F12在element中，按左上角的箭头，选中视频，在element中会自动导向视频的地址，src后面的就是视频的地址，双击地址，复制\n",
    "url_video = 'https://vdept3.bdstatic.com/mda-qkqm5dssmvwp3n4q/360p/h264/1732546938743411820/mda-qkqm5dssmvwp3n4q.mp4?v_from_s=hkapp-haokan-nanjing&auth_key=1733164201-0-0-7147d099353f993de08fd88042e2ae2d&bcevod_channel=searchbox_feed&cr=0&cd=0&pd=1&pt=3&logid=1801435354&vid=7729082584427399335&klogid=1801435354&abtest=122021_1'\n",
    "urllib.request.urlretrieve(url_video, 'video.mp4')"
   ]
  }
 ],
 "metadata": {
  "language_info": {
   "name": "python"
  }
 },
 "nbformat": 4,
 "nbformat_minor": 2
}
