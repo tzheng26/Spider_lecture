{
 "cells": [
  {
   "cell_type": "markdown",
   "metadata": {},
   "source": [
    "# selenium_基本使用"
   ]
  },
  {
   "cell_type": "markdown",
   "metadata": {},
   "source": [
    "## 如何安装selenium？\n",
    "\n",
    "普通安装：\n",
    "\n",
    "(1) 操作谷歌浏览器驱动下载地址：\n",
    "    \n",
    "    http://chromedriver.storage.googleapis.com/index.html\n",
    "\n",
    "(2) 谷歌驱动和谷歌浏览器版本之间的映射表\n",
    "\n",
    "    https://blog.csdn.net/huilan_same/article/details/51896672\n",
    "\n",
    "(3) 查看谷歌浏览器版本\n",
    "\n",
    "    谷歌浏览器右上角-->帮助-->关于\n",
    "\n",
    "(4) pip install selenium\n",
    "\n",
    "\n",
    "---\n",
    "安装在wsl2中：\n",
    "\n",
    "参考教程：\n",
    "\n",
    "- https://cloudbytes.dev/snippets/run-selenium-and-chrome-on-wsl2\n",
    "\n",
    "- https://github.com/rehanhaider/selenium-wsl2-ubuntu\n",
    "\n",
    "\n",
    "当前selenium版本4.11.2"
   ]
  },
  {
   "cell_type": "code",
   "execution_count": null,
   "metadata": {},
   "outputs": [],
   "source": [
    "# chrome 和 chromedriver 下载下来的位置：\n",
    "# ~/chrome-linux64/chrome 和 ~/chromedriver-linux64/chromedriver\n",
    "\n",
    "# 导入selenium\n",
    "import os.path\n",
    "from selenium import webdriver\n",
    "from selenium.webdriver.chrome.service import Service\n",
    "from selenium.webdriver.common.by import By\n",
    "from selenium.webdriver.chrome.options import Options\n",
    "\n",
    "## Setup chrome options\n",
    "chrome_options = Options()\n",
    "chrome_options.add_argument(\"--headless\")  # Ensure GUI is off\n",
    "chrome_options.add_argument(\"--no-sandbox\")\n",
    "\n",
    "# Set path to chrome and chromedriver as per your configuration\n",
    "homedir = os.path.expanduser(\"~\")\n",
    "chrome_options.binary_location = f\"{homedir}/chrome-linux64/chrome\"\n",
    "webdriver_service = Service(f\"{homedir}/chromedriver-linux64/chromedriver\")\n",
    "\n",
    "# 创建浏览器操作对象\n",
    "browser = webdriver.Chrome(service=webdriver_service, options=chrome_options)\n",
    "\n",
    "# Get page\n",
    "url = \"https://www.jd.com\"\n",
    "browser.get(url)\n",
    "\n",
    "# 获取网页源码\n",
    "content = browser.page_source\n",
    "print(content)\n",
    "\n",
    "# 关闭浏览器\n",
    "browser.quit()"
   ]
  }
 ],
 "metadata": {
  "kernelspec": {
   "display_name": "crawler",
   "language": "python",
   "name": "python3"
  },
  "language_info": {
   "codemirror_mode": {
    "name": "ipython",
    "version": 3
   },
   "file_extension": ".py",
   "mimetype": "text/x-python",
   "name": "python",
   "nbconvert_exporter": "python",
   "pygments_lexer": "ipython3",
   "version": "3.7.12"
  }
 },
 "nbformat": 4,
 "nbformat_minor": 2
}
