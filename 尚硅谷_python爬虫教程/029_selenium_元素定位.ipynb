{
 "cells": [
  {
   "cell_type": "markdown",
   "metadata": {
    "vscode": {
     "languageId": "plaintext"
    }
   },
   "source": [
    "# selenium 元素定位"
   ]
  },
  {
   "cell_type": "markdown",
   "metadata": {},
   "source": [
    "**元素定位**\n",
    "    \n",
    "自动化要做的就是模拟鼠标和键盘来操作这些元素，点击、输入等等。操作这些元素前首先要找到他们，WebDriver提供很多定位元素的方法。\n",
    "\n",
    "`find_element()`\n",
    "\n",
    "早期的selenium提供了针对id、name、xpath等多种方式的具体方法来定位到具体的元素，比如find_element_by_id()、find_element_by_name()等。\n",
    "在后续的升级中，这些方法被弃用了，现在统一使用find_element(by=By.ID, value=None)方法，该方法包含了id、name、xpath等定位方式。\n",
    "\n",
    "| 定位方式               | 描述                                      |\n",
    "|-----------------------|------------------------------------------|\n",
    "| By.ID                 | 根据查找标签中的id属性来定位元素              |\n",
    "| By.NAME               | 根据查找标签中的name属性来定位元素            |\n",
    "| By.CLASS_NAME         | 根据class属性指定的值来查找元素              |\n",
    "| By.CSS_SELECTOR       | 根据css选择器的方式来查找元素，同bs4语法       |\n",
    "| By.XPATH              | 根据XPath语法来查找元素                       |\n",
    "| By.LINK_TEXT          | 查找文本精确匹配的a标签元素                   |\n",
    "| By.PARTIAL_LINK_TEXT  | 查找文本模糊匹配的a标签元素                   |\n",
    "| By.TAG_NAME           | 根据标签名称来查找元素，不太好用，不常用          |\n",
    "\n",
    "\n",
    "\n",
    "`find_elements()`\n",
    "\n",
    "返回的是一个列表，包含了所有符合条件的元素，如果没有找到，返回空列表。\n"
   ]
  },
  {
   "cell_type": "code",
   "execution_count": null,
   "metadata": {},
   "outputs": [],
   "source": [
    "# chrome 和 chromedriver 下载下来的位置：\n",
    "# ~/chrome-linux64/chrome 和 ~/chromedriver-linux64/chromedriver\n",
    "\n",
    "# 导入selenium\n",
    "import os.path\n",
    "from selenium import webdriver\n",
    "from selenium.webdriver.chrome.service import Service\n",
    "from selenium.webdriver.common.by import By\n",
    "from selenium.webdriver.chrome.options import Options\n",
    "\n",
    "## Setup chrome options\n",
    "chrome_options = Options()\n",
    "chrome_options.add_argument(\"--headless\")  # Ensure GUI is off\n",
    "chrome_options.add_argument(\"--no-sandbox\")\n",
    "\n",
    "# Set path to chrome and chromedriver as per your configuration\n",
    "homedir = os.path.expanduser(\"~\")\n",
    "chrome_options.binary_location = f\"{homedir}/chrome-linux64/chrome\"\n",
    "webdriver_service = Service(f\"{homedir}/chromedriver-linux64/chromedriver\")\n",
    "\n",
    "# 创建浏览器操作对象\n",
    "browser = webdriver.Chrome(service=webdriver_service, options=chrome_options)\n",
    "\n",
    "# Get page\n",
    "url = \"https://www.baidu.com\"\n",
    "browser.get(url)\n"
   ]
  },
  {
   "cell_type": "code",
   "execution_count": null,
   "metadata": {},
   "outputs": [],
   "source": [
    "\n",
    "# 元素定位\n",
    "\n",
    "# 根据id属性的值来获取对象\n",
    "button = browser.find_element(By.ID, \"su\")\n",
    "print(button)"
   ]
  },
  {
   "cell_type": "code",
   "execution_count": null,
   "metadata": {},
   "outputs": [],
   "source": [
    "# 根据name属性的值来获取对象 \n",
    "# e.g., <input id=\"kw\" name=\"wd\" class=\"s_ipt\" value=\"\" maxlength=\"255\" autocomplete=\"off\">\n",
    "button = browser.find_element(By.NAME, \"wd\")\n",
    "print(button)"
   ]
  },
  {
   "cell_type": "code",
   "execution_count": null,
   "metadata": {},
   "outputs": [],
   "source": [
    "# 根据class属性的值来获取对象 \n",
    "# e.g., <input id=\"kw\" name=\"wd\" class=\"s_ipt\" value=\"\" maxlength=\"255\" autocomplete=\"off\">\n",
    "button = browser.find_element(By.CLASS_NAME, \"s_ipt\")\n",
    "print(button)"
   ]
  },
  {
   "cell_type": "code",
   "execution_count": null,
   "metadata": {},
   "outputs": [],
   "source": [
    "# 根据xpath语句来获取对象\n",
    "button = browser.find_element(By.XPATH, '//input[@id=\"su\"]')\n",
    "print(button)"
   ]
  },
  {
   "cell_type": "code",
   "execution_count": null,
   "metadata": {},
   "outputs": [],
   "source": [
    "# 根据标签的名字来获取对象\n",
    "button = browser.find_elements(By.TAG_NAME, \"input\")\n",
    "print(button)"
   ]
  },
  {
   "cell_type": "code",
   "execution_count": null,
   "metadata": {},
   "outputs": [],
   "source": [
    "# 使用bs4的语法来获取对象\n",
    "button = browser.find_element(By.CSS_SELECTOR, '#su')\n",
    "print(button)"
   ]
  },
  {
   "cell_type": "code",
   "execution_count": null,
   "metadata": {},
   "outputs": [],
   "source": [
    "# 根据链接文本来获取对象\n",
    "button = browser.find_element(By.LINK_TEXT, '新闻')\n",
    "print(button)"
   ]
  },
  {
   "cell_type": "code",
   "execution_count": null,
   "metadata": {},
   "outputs": [],
   "source": [
    "# 根据链接文本的部分内容来获取对象\n",
    "button = browser.find_elements(By.PARTIAL_LINK_TEXT, '新')\n",
    "print(button)"
   ]
  },
  {
   "cell_type": "code",
   "execution_count": null,
   "metadata": {},
   "outputs": [],
   "source": [
    "\n",
    "# 关闭浏览器\n",
    "browser.quit()"
   ]
  }
 ],
 "metadata": {
  "kernelspec": {
   "display_name": "crawler",
   "language": "python",
   "name": "python3"
  },
  "language_info": {
   "codemirror_mode": {
    "name": "ipython",
    "version": 3
   },
   "file_extension": ".py",
   "mimetype": "text/x-python",
   "name": "python",
   "nbconvert_exporter": "python",
   "pygments_lexer": "ipython3",
   "version": "3.7.12"
  }
 },
 "nbformat": 4,
 "nbformat_minor": 2
}
