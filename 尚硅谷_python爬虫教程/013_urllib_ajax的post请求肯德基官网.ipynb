{
 "cells": [
  {
   "cell_type": "markdown",
   "metadata": {},
   "source": [
    "# urllib ajax post请求肯德基官网\n",
    "\n",
    "访问肯德基官网\n",
    "\n",
    "餐厅查询->上海\n",
    "\n",
    "当`F12->Network->Headers>Request Headers->x-requested-with: XMLHttpRequest`时，说明是ajax请求"
   ]
  },
  {
   "cell_type": "code",
   "execution_count": null,
   "metadata": {},
   "outputs": [],
   "source": [
    "# 第1页\n",
    "# https://www.kfc.com.cn/kfccda/ashx/GetStoreList.ashx?op=cname\n",
    "# post\n",
    "\n",
    "# cname: 上海\n",
    "# pid: \n",
    "# pageIndex: 1\n",
    "# pageSize: 10\n",
    "\n",
    "# 第2页\n",
    "# https://www.kfc.com.cn/kfccda/ashx/GetStoreList.ashx?op=cname\n",
    "# post\n",
    "\n",
    "# cname: 上海\n",
    "# pid:\n",
    "# pageIndex: 2\n",
    "# pageSize: 10"
   ]
  },
  {
   "cell_type": "code",
   "execution_count": null,
   "metadata": {},
   "outputs": [],
   "source": [
    "import urllib.request\n",
    "import urllib.parse\n",
    "\n",
    "def create_request(page):\n",
    "    base_url = 'https://www.kfc.com.cn/kfccda/ashx/GetStoreList.ashx?op=cname'\n",
    "\n",
    "    data = {\n",
    "        'cname': '上海',\n",
    "        'pid': '',\n",
    "        'pageIndex': page,\n",
    "        'pageSize': 10\n",
    "    }\n",
    "\n",
    "    data = urllib.parse.urlencode(data).encode('utf-8')\n",
    "\n",
    "    headers = {\n",
    "        'user-agent': 'Mozilla/5.0 (Macintosh; Intel Mac OS X 10_15_7) AppleWebKit/537.36 (KHTML, like Gecko) Chrome/131.0.0.0 Safari/537.36'\n",
    "    }\n",
    "\n",
    "    request = urllib.request.Request(url=base_url, data=data, headers=headers)\n",
    "    \n",
    "    return request\n",
    "\n",
    "def get_content(request):\n",
    "    response = urllib.request.urlopen(request)\n",
    "    content = response.read().decode('utf-8')\n",
    "    return content\n",
    "\n",
    "def down_load(page, content):\n",
    "    with open('kfc_' + str(page) + '.json', 'w', encoding='utf-8') as fp:\n",
    "        fp.write(content)\n",
    "\n",
    "if __name__ == '__main__':\n",
    "    start_page = int(input('请输入起始页码：'))\n",
    "    end_page = int(input('请输入结束页码：'))\n",
    "    \n",
    "    for page in range(start_page, end_page + 1):\n",
    "        # 每一页都有自己的请求对象的定制\n",
    "        request = create_request(page)\n",
    "        # 获取网页源码\n",
    "        content = get_content(request)\n",
    "        # 下载\n",
    "        down_load(page, content)"
   ]
  }
 ],
 "metadata": {
  "kernelspec": {
   "display_name": "crawler",
   "language": "python",
   "name": "python3"
  },
  "language_info": {
   "name": "python",
   "version": "3.7.7"
  }
 },
 "nbformat": 4,
 "nbformat_minor": 2
}
