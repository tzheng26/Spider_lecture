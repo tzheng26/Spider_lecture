{
 "cells": [
  {
   "cell_type": "markdown",
   "metadata": {},
   "source": [
    "# requests 代理"
   ]
  },
  {
   "cell_type": "code",
   "execution_count": null,
   "metadata": {},
   "outputs": [],
   "source": [
    "import requests\n",
    "\n",
    "url = 'http://www.baidu.com/s?'\n",
    "\n",
    "headers = {\n",
    "    'User-Agent': 'Mozilla/5.0 (Macintosh; Intel Mac OS X 10_15_7) AppleWebKit/537.36 (KHTML, like Gecko) Chrome/131.0.0.0 Safari/537.36'\n",
    "}\n",
    "\n",
    "data = {\n",
    "    'wd': 'ip'\n",
    "}\n",
    "\n",
    "\n",
    "proxy = {\n",
    "    'http': '59.54.238.245:17123'\n",
    "}\n",
    "\n",
    "\n",
    "response = requests.get(url=url, params=data, headers=headers, proxies=proxy)\n",
    "\n",
    "content = response.text\n",
    "\n",
    "with open('daili.html', 'w', encoding='utf-8') as fp:\n",
    "    fp.write(content)"
   ]
  }
 ],
 "metadata": {
  "kernelspec": {
   "display_name": "crawler",
   "language": "python",
   "name": "python3"
  },
  "language_info": {
   "codemirror_mode": {
    "name": "ipython",
    "version": 3
   },
   "file_extension": ".py",
   "mimetype": "text/x-python",
   "name": "python",
   "nbconvert_exporter": "python",
   "pygments_lexer": "ipython3",
   "version": "3.7.12"
  }
 },
 "nbformat": 4,
 "nbformat_minor": 2
}
