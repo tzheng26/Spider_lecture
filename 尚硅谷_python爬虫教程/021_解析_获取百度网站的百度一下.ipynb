{
 "cells": [
  {
   "cell_type": "markdown",
   "metadata": {},
   "source": [
    "# 解析 获取百度网站的百度一下"
   ]
  },
  {
   "cell_type": "code",
   "execution_count": null,
   "metadata": {},
   "outputs": [],
   "source": [
    "# （1）获取网页的源码\n",
    "# （2）解析  解析服务器响应的文杰  etree.HTML\n",
    "#  (3) 打印"
   ]
  },
  {
   "cell_type": "code",
   "execution_count": 2,
   "metadata": {},
   "outputs": [],
   "source": [
    "import urllib.request\n",
    "\n",
    "url = \"https://www.baidu.com/\"\n",
    "\n",
    "headers = {\n",
    "    'user-agent': 'Mozilla/5.0 (Macintosh; Intel Mac OS X 10_15_7) AppleWebKit/537.36 (KHTML, like Gecko) Chrome/131.0.0.0 Safari/537.36'\n",
    "}\n",
    "\n",
    "# 请求对象的定制\n",
    "request = urllib.request.Request(url=url, headers=headers)\n",
    "# 模拟浏览器向服务器发送请求\n",
    "response = urllib.request.urlopen(request)\n",
    "# 获取网页的源码\n",
    "content = response.read().decode('utf-8')\n"
   ]
  },
  {
   "cell_type": "code",
   "execution_count": 4,
   "metadata": {},
   "outputs": [
    {
     "name": "stdout",
     "output_type": "stream",
     "text": [
      "百度一下\n"
     ]
    }
   ],
   "source": [
    "# 解析网页源码  获取我们想要的数据\n",
    "from lxml import etree\n",
    "\n",
    "# 解析服务器响应文件\n",
    "tree = etree.HTML(content)\n",
    "\n",
    "# 获取想要的数据     可以借助浏览器xpath helper插件小黑框验证\n",
    "# xpath返回值是列表类型的数据\n",
    "result = tree.xpath('//input[@id=\"su\"]/@value')[0]\n",
    "print(result)"
   ]
  }
 ],
 "metadata": {
  "kernelspec": {
   "display_name": "crawler",
   "language": "python",
   "name": "python3"
  },
  "language_info": {
   "codemirror_mode": {
    "name": "ipython",
    "version": 3
   },
   "file_extension": ".py",
   "mimetype": "text/x-python",
   "name": "python",
   "nbconvert_exporter": "python",
   "pygments_lexer": "ipython3",
   "version": "3.7.12"
  }
 },
 "nbformat": 4,
 "nbformat_minor": 2
}
