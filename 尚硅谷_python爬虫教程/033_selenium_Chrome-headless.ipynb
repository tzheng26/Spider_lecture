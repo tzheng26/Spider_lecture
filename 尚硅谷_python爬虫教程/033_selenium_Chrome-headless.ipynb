{
 "cells": [
  {
   "cell_type": "markdown",
   "metadata": {},
   "source": [
    "# selenium Chrome-headless\n",
    "\n",
    "Chrome-headless 模式，谷歌针对 Chrome 59 版本推出的一个新特性，可以在不打开UI界面的情况下使用 Chrome 浏览器。运行效果与Chrome保持完美一致。"
   ]
  },
  {
   "cell_type": "markdown",
   "metadata": {},
   "source": [
    "1. 系统要求\n",
    "\n",
    "    Chrome \n",
    "\n",
    "        Unix/linux chrome >= 59\n",
    "        Windows chrome >= 60\n",
    "\n",
    "    Python>=3.6\n",
    "\n",
    "    Selenium>=3.4\n",
    "\n",
    "    ChromeDriver>=2.31\n"
   ]
  },
  {
   "cell_type": "code",
   "execution_count": 1,
   "metadata": {},
   "outputs": [
    {
     "data": {
      "text/plain": [
       "True"
      ]
     },
     "execution_count": 1,
     "metadata": {},
     "output_type": "execute_result"
    }
   ],
   "source": [
    "import os.path\n",
    "from selenium import webdriver\n",
    "from selenium.webdriver.chrome.service import Service\n",
    "from selenium.webdriver.common.by import By\n",
    "from selenium.webdriver.chrome.options import Options\n",
    "\n",
    "## Setup chrome options\n",
    "chrome_options = Options()\n",
    "chrome_options.add_argument(\"--headless\")  # Ensure GUI is off\n",
    "chrome_options.add_argument(\"--no-sandbox\")\n",
    "\n",
    "# Set path to chrome and chromedriver as per your configuration\n",
    "homedir = os.path.expanduser(\"~\")\n",
    "chrome_options.binary_location = f\"{homedir}/chrome-linux64/chrome\"\n",
    "webdriver_service = Service(f\"{homedir}/chromedriver-linux64/chromedriver\")\n",
    "\n",
    "# 创建浏览器操作对象\n",
    "browser = webdriver.Chrome(service=webdriver_service, options=chrome_options)\n",
    "\n",
    "url = \"https://www.baidu.com\"\n",
    "\n",
    "browser.get(url)\n",
    "\n",
    "browser.save_screenshot(\"baidu.png\")"
   ]
  },
  {
   "cell_type": "code",
   "execution_count": null,
   "metadata": {},
   "outputs": [],
   "source": [
    "# 封装的headless\n",
    "\n",
    "import os.path\n",
    "from selenium import webdriver\n",
    "from selenium.webdriver.chrome.service import Service\n",
    "from selenium.webdriver.common.by import By\n",
    "from selenium.webdriver.chrome.options import Options\n",
    "\n",
    "def share_browser():\n",
    "    chrome_options = Options()\n",
    "    chrome_options.add_argument(\"--headless\")  # Ensure GUI is off\n",
    "    chrome_options.add_argument(\"--no-sandbox\")\n",
    "\n",
    "    # Set path to chrome and chromedriver as per your configuration\n",
    "    homedir = os.path.expanduser(\"~\")\n",
    "    chrome_options.binary_location = f\"{homedir}/chrome-linux64/chrome\"\n",
    "    webdriver_service = Service(f\"{homedir}/chromedriver-linux64/chromedriver\")\n",
    "\n",
    "    # 创建浏览器操作对象\n",
    "    browser = webdriver.Chrome(service=webdriver_service, options=chrome_options)\n",
    "    return browser"
   ]
  },
  {
   "cell_type": "code",
   "execution_count": null,
   "metadata": {},
   "outputs": [],
   "source": [
    "browser = share_browser()\n",
    "\n",
    "url = \"https://www.baidu.com\"\n",
    "\n",
    "browser.get(url)"
   ]
  }
 ],
 "metadata": {
  "kernelspec": {
   "display_name": "crawler",
   "language": "python",
   "name": "python3"
  },
  "language_info": {
   "codemirror_mode": {
    "name": "ipython",
    "version": 3
   },
   "file_extension": ".py",
   "mimetype": "text/x-python",
   "name": "python",
   "nbconvert_exporter": "python",
   "pygments_lexer": "ipython3",
   "version": "3.7.12"
  }
 },
 "nbformat": 4,
 "nbformat_minor": 2
}
