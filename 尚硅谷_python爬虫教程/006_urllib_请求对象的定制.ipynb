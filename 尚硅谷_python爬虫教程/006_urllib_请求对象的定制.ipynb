{
 "cells": [
  {
   "cell_type": "markdown",
   "metadata": {},
   "source": [
    "# urllib 请求对象的定制\n",
    "\n",
    "解决User-Agent反爬机制"
   ]
  },
  {
   "cell_type": "code",
   "execution_count": null,
   "metadata": {},
   "outputs": [],
   "source": [
    "\n",
    "import urllib.request\n",
    "\n",
    "# 注意这里是https\n",
    "url = 'https://www.baidu.com'\n"
   ]
  },
  {
   "cell_type": "code",
   "execution_count": null,
   "metadata": {},
   "outputs": [],
   "source": [
    "\n",
    "# url的组成\n",
    "# https://www.baidu.com/s?wd=周杰伦\n",
    "\n",
    "# http/https    www.baidu.com    80/443    s             wd=周杰伦    #\n",
    "# 协议           主机            端口号      路径            参数        锚点\n",
    "# http 80\n",
    "# https 443\n",
    "# mysql 3306\n",
    "# oracle 1521\n",
    "# redis 6379\n",
    "# mongodb 27017"
   ]
  },
  {
   "cell_type": "code",
   "execution_count": null,
   "metadata": {},
   "outputs": [],
   "source": [
    "\n",
    "\n",
    "response = urllib.request.urlopen(url)\n",
    "content = response.read().decode('utf-8')\n",
    "print(content)\n",
    "\n",
    "# 结果遇到User-Agent反爬机制\n",
    "# >>>>>>>>>>>>>>>>>>>>>>>   \n",
    "# <html>\n",
    "# <head>\n",
    "#         <script>\n",
    "#                 location.replace(location.href.replace(\"https://\",\"http://\"));\n",
    "#         </script>\n",
    "# </head>\n",
    "# <body>\n",
    "#         <noscript><meta http-equiv=\"refresh\" content=\"0;url=http://www.baidu.com/\"></noscript>\n",
    "# </body>\n",
    "# </html>\n"
   ]
  },
  {
   "cell_type": "code",
   "execution_count": null,
   "metadata": {},
   "outputs": [],
   "source": [
    "\n",
    "\n",
    "# 解决：\n",
    "# 去百度，F12，Network，刷新，找到第一个请求，Headers，最下方有User-Agent, 复制过来\n",
    "headers = {\n",
    "    'User-Agent': 'Mozilla/5.0 (Windows NT 10.0; Win64; x64) AppleWebKit/537.36 (KHTML, like Gecko) Chrome/58.0.3029.110 Safari/537.3'\n",
    "}\n",
    "# 因为urlopen方法中不能存储字典，所以headers不能传递进去\n",
    "# 请求对象的定制\n",
    "# 因为参数顺序的问题，不能直接写url 和 headers 中间还有data 所以需要关键字传参\n",
    "request = urllib.request.Request(url=url, headers=headers)\n",
    "response = urllib.request.urlopen(request)\n",
    "content = response.read().decode('utf-8')\n",
    "print(content)"
   ]
  }
 ],
 "metadata": {
  "language_info": {
   "name": "python"
  }
 },
 "nbformat": 4,
 "nbformat_minor": 2
}
