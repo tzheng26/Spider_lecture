{
 "cells": [
  {
   "cell_type": "markdown",
   "metadata": {},
   "source": [
    "# urllib 代理\n",
    "\n",
    "频繁爬取可能会封IP，这时候可以使用代理IP来解决这个问题。"
   ]
  },
  {
   "cell_type": "markdown",
   "metadata": {},
   "source": [
    "## 代理服务器\n",
    "\n",
    "1. 代理的常用功能\n",
    "   1. 突破自身IP访问限制，访问国外站点。\n",
    "   2. 访问一些单位或团体内部资源\n",
    "      1. 扩展：某大学FTP（前提是该代理地址在该资源的允许访问范围之内），使用教育网内地址段免费代理服务器，就可以用于对教育网开放的各类FTP下载上传，以及各类资料查询共享等服务。\n",
    "   3. 提高访问速度\n",
    "      1. 扩展：通常代理服务器都设置一个较大的硬盘缓冲区，当有外界的信息通过时，同时也将其保存的缓冲区中，当其他用户再访问相同的信息时，则直接由缓冲区中取出信息，传给用户，以提高访问速度。\n",
    "   4. 隐藏真实IP\n",
    "      1. 扩展：隐藏IP免受攻击。\n",
    "2. 代码配置代理\n",
    "   1. 创建Request对象\n",
    "   2. 创建ProxyHandler对象\n",
    "   3. 用handler对象创建opener对象\n",
    "   4. 使用opener.open函数发送请求"
   ]
  },
  {
   "cell_type": "code",
   "execution_count": null,
   "metadata": {},
   "outputs": [],
   "source": [
    "import urllib.request\n",
    "url = 'http://www.baidu.com/s?wd=ip'\n",
    "\n",
    "headers = {\n",
    "    'user-agent': 'Mozilla/5.0 (Macintosh; Intel Mac OS X 10_15_7) AppleWebKit/537.36 (KHTML, like Gecko) Chrome/131.0.0.0 Safari/537.36'\n",
    "}\n",
    "\n",
    "# 请求对象的定制\n",
    "request = urllib.request.Request(url=url, headers=headers)\n",
    "\n",
    "# 模拟浏览器访问服务器\n",
    "response = urllib.request.urlopen(request)\n",
    "\n",
    "# 获取响应内容\n",
    "content  = response.read().decode('utf-8')\n",
    "\n",
    "# 保存\n",
    "with open('ip.html', 'w', encoding='utf-8') as fp:\n",
    "    fp.write(content)"
   ]
  },
  {
   "cell_type": "code",
   "execution_count": null,
   "metadata": {},
   "outputs": [],
   "source": [
    "# 使用代理\n",
    "# handler   build_opener   open\n",
    "# 可以从‘快代理’买\n",
    "proxies = {\n",
    "    'http': '59.54.238.245:17123'\n",
    "}\n",
    "\n",
    "handler = urllib.request.ProxyHandler(proxies=proxies)\n",
    "\n",
    "opener = urllib.request.build_opener(handler)\n",
    "\n",
    "response = opener.open(request)\n",
    "\n",
    "content = response.read().decode('utf-8')\n",
    "\n",
    "with open('ip.html', 'w', encoding='utf-8') as fp:\n",
    "    fp.write(content)\n"
   ]
  }
 ],
 "metadata": {
  "kernelspec": {
   "display_name": "crawler",
   "language": "python",
   "name": "python3"
  },
  "language_info": {
   "codemirror_mode": {
    "name": "ipython",
    "version": 3
   },
   "file_extension": ".py",
   "mimetype": "text/x-python",
   "name": "python",
   "nbconvert_exporter": "python",
   "pygments_lexer": "ipython3",
   "version": "3.7.7"
  }
 },
 "nbformat": 4,
 "nbformat_minor": 2
}
