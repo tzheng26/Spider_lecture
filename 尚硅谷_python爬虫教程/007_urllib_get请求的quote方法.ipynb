{
 "cells": [
  {
   "cell_type": "markdown",
   "metadata": {},
   "source": [
    "# urllib get 请求的quote方法\n",
    "\n",
    "urllib get请求的参数放到url后面\n",
    "\n",
    "url中的中文字符是不能直接传递的，需要使用quote方法进行编码。"
   ]
  },
  {
   "cell_type": "code",
   "execution_count": null,
   "metadata": {},
   "outputs": [],
   "source": [
    "# wd=后面的是 unicode编码\n",
    "# https://www.baidu.com/s?wd=%E5%91%A8%E6%9D%B0%E4%BC%A6\n",
    "import urllib.request\n",
    "import urllib.parse\n",
    "\n",
    "# 需求 获取 https://www.baidu.com/s?wd=周杰伦 的网页源码\n",
    "\n",
    "url = 'https://www.baidu.com/s?wd='\n",
    "\n",
    "# 请求对象的定制是为了解决User-Agent反爬机制\n",
    "headers = {\n",
    "    'User-Agent': 'Mozilla/5.0 (Macintosh; Intel Mac OS X 10_15_7) AppleWebKit/537.36 (KHTML, like Gecko) Chrome/131.0.0.0 Safari/537.36'\n",
    "}\n",
    "\n",
    "# 将周杰伦三个字变成unicode编码\n",
    "# 需要urllib.parse.quote()方法\n",
    "name = urllib.parse.quote('周杰伦')\n",
    "print(name) # %E5%91%A8%E6%9D%B0%E4%BC%A6\n",
    "url = url + name\n",
    "\n",
    "# 请求对象的定制\n",
    "request = urllib.request.Request(url=url, headers=headers)\n",
    "\n",
    "# 模拟浏览器向服务器发送请求\n",
    "response = urllib.request.urlopen(request)\n",
    "\n",
    "content = response.read().decode('utf-8')\n",
    "\n",
    "print(content)"
   ]
  }
 ],
 "metadata": {
  "language_info": {
   "name": "python"
  }
 },
 "nbformat": 4,
 "nbformat_minor": 2
}
