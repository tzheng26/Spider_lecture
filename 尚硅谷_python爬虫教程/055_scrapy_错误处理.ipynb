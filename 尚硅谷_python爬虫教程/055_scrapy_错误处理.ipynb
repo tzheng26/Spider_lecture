{
 "cells": [
  {
   "cell_type": "markdown",
   "metadata": {},
   "source": [
    "# Scrapy 错误处理"
   ]
  },
  {
   "cell_type": "code",
   "execution_count": null,
   "metadata": {},
   "outputs": [],
   "source": [
    "\n",
    "import scrapy\n",
    "\n",
    "\n",
    "class CarSpider(scrapy.Spider):\n",
    "    name = \"car\"\n",
    "    allowed_domains = [\"car.autohome.com.cn\"]\n",
    "    # 注意如果你的请求的接口是html结尾的，那么是不需要加/的\n",
    "    start_urls = [\"https://car.autohome.com.cn/price/brand-15.html\"]\n",
    "\n",
    "    def parse(self, response):\n",
    "        # selector 列表\n",
    "        name_list = response.xpath('//div[@class=\"main-title\"]/a/text()')\n",
    "        price_list = response.xpath('//div[@class=\"main-lever\"]//span/span/text()')\n",
    "\n",
    "        for i in range(len(name_list)):\n",
    "            name = name_list[i].extract()\n",
    "            price = price_list[i].extract()\n",
    "            print(name, price)\n",
    "\n",
    "    def errback(self, failure):\n",
    "        # log all failures\n",
    "        self.logger.error(repr(failure)) # repr 返回对象的字符串表示"
   ]
  },
  {
   "cell_type": "code",
   "execution_count": null,
   "metadata": {},
   "outputs": [],
   "source": [
    "# scrapy 爬取多个网页的数据，有的失败了。\n",
    "\n",
    "import scrapy\n",
    "\n",
    "class PytorchApiDocSpider(scrapy.Spider):\n",
    "    name = \"pytorch_api_doc\"\n",
    "    allowed_domains = [\"pytorch.org\"]\n",
    "\n",
    "    def start_requests(self):\n",
    "        urls = [\n",
    "            \"https://pytorch.org/docs/2.4/generated/torch.bernoulli.html#torch.bernoulli\",\n",
    "            # 添加更多的URL\n",
    "        ]\n",
    "        for url in urls:\n",
    "            yield scrapy.Request(url=url, callback=self.parse, errback=self.errback)\n",
    "\n",
    "    def parse(self, response):\n",
    "        # 解析成功的响应\n",
    "        api_name = response.meta.get(\"api_name\", \"unknown\")\n",
    "        title = response.xpath(\"//h1/text()\").get()\n",
    "        self.log(f\"Successfully parsed: {api_name} - {title}\")\n",
    "\n",
    "    def errback(self, failure):\n",
    "        # 处理失败的响应\n",
    "        self.log(f\"Request failed: {failure.request.url}\")\n",
    "        self.log(f\"Error: {failure.value}\")"
   ]
  }
 ],
 "metadata": {
  "language_info": {
   "name": "python"
  }
 },
 "nbformat": 4,
 "nbformat_minor": 2
}
