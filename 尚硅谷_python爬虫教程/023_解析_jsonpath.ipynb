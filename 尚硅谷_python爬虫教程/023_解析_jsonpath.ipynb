{
 "cells": [
  {
   "cell_type": "markdown",
   "metadata": {},
   "source": [
    "# 解析 jsonpath\n",
    "\n",
    "很多网站的返回值是json, 使用jsonpath解析json数据\n",
    "\n",
    "jsonpath 安装\n",
    "\n",
    "```shell\n",
    "pip install jsonpath\n",
    "```\n",
    "\n",
    "jsonpath 使用\n",
    "\n",
    "```python\n",
    "obj = json.load(open('json文件', 'r', encoding='utf-8'))\n",
    "ret = jsonpath.jsonpath(obj, 'jsonpath语法')\n",
    "```\n",
    "\n",
    "jsonpath只能解析本地文件，不能解析服务器响应\n",
    "\n",
    "教程：https://blog.csdn.net/cold___play/article/details/135872982\n",
    "\n",
    "\n",
    "| 语法                  | 含义                                       |\n",
    "|-----------------------|--------------------------------------------|\n",
    "| `$`                   | 表示根节点                                 |\n",
    "| `@`                   | 当前节点                                   |\n",
    "| `.<节点名称>`         | 获取子节点                                 |\n",
    "| `[<节点名称1>(,<节点名称2>)]` | 获取子节点，与点号不同，这里可以获取多个子节点 |\n",
    "| `*`                   | 匹配所有元素节点                           |\n",
    "| `..`                  | 获取子孙节点，无论嵌套多少层，都可以获取到 |\n",
    "| `[<下标1>(,<下标2>)]` | 表示一个或多个下标                         |\n",
    "| `[start:end:step]`   | 表示切片语法                               |\n",
    "| `[?(<表达式>)]`      | 过滤器表达式，表达式结果必须是布尔值     |\n",
    "| `()`                  | 支持表达式计算                             |\n"
   ]
  },
  {
   "cell_type": "code",
   "execution_count": null,
   "metadata": {},
   "outputs": [],
   "source": [
    "import json\n",
    "import jsonpath\n",
    "from pprint import pprint\n",
    "\n",
    "\n",
    "obj = json.load(open('073_解析_jsonpath.json', 'r', encoding='utf-8'))\n",
    "print(obj)"
   ]
  },
  {
   "cell_type": "code",
   "execution_count": null,
   "metadata": {},
   "outputs": [],
   "source": [
    "# 书店所有书的作者\n",
    "author_list = jsonpath.jsonpath(obj, '$.store.book[*].author')\n",
    "\n",
    "print(author_list)"
   ]
  },
  {
   "cell_type": "code",
   "execution_count": null,
   "metadata": {},
   "outputs": [],
   "source": [
    "# 书店第一本书的作者（通过下标）\n",
    "author = jsonpath.jsonpath(obj, '$.store.book[0].author')\n",
    "\n",
    "print(author)"
   ]
  },
  {
   "cell_type": "code",
   "execution_count": null,
   "metadata": {},
   "outputs": [],
   "source": [
    "# 所有的作者\n",
    "author_list = jsonpath.jsonpath(obj, '$..author') # ..相当于xpath的//，表示任意层级\n",
    "\n",
    "print(author_list)"
   ]
  },
  {
   "cell_type": "code",
   "execution_count": null,
   "metadata": {},
   "outputs": [],
   "source": [
    "# store 下面的所有元素\n",
    "tag_list = jsonpath.jsonpath(obj, '$.store.*')\n",
    "\n",
    "pprint(tag_list)"
   ]
  },
  {
   "cell_type": "code",
   "execution_count": null,
   "metadata": {},
   "outputs": [],
   "source": [
    "# store 下面所有东西的price\n",
    "price_list = jsonpath.jsonpath(obj, '$.store..price')\n",
    "\n",
    "print(price_list)"
   ]
  },
  {
   "cell_type": "code",
   "execution_count": null,
   "metadata": {},
   "outputs": [],
   "source": [
    "#  第三本书\n",
    "book = jsonpath.jsonpath(obj, '$..book[2]')\n",
    "\n",
    "print(book)"
   ]
  },
  {
   "cell_type": "code",
   "execution_count": null,
   "metadata": {},
   "outputs": [],
   "source": [
    "# 最后一本书\n",
    "book = jsonpath.jsonpath(obj, '$..book[(@.length-1)]')\n",
    "\n",
    "print(book)"
   ]
  },
  {
   "cell_type": "code",
   "execution_count": null,
   "metadata": {},
   "outputs": [],
   "source": [
    "# 前两本书\n",
    "book_list = jsonpath.jsonpath(obj, '$..book[:2]')\n",
    "\n",
    "print(book_list)"
   ]
  },
  {
   "cell_type": "code",
   "execution_count": null,
   "metadata": {},
   "outputs": [],
   "source": [
    "# 条件过滤需要在（）前加上?\n",
    "# 过滤出所有包含isbn的书\n",
    "book_list = jsonpath.jsonpath(obj, '$..book[?(@.isbn)]')\n",
    "\n",
    "pprint(book_list)"
   ]
  },
  {
   "cell_type": "code",
   "execution_count": null,
   "metadata": {},
   "outputs": [],
   "source": [
    "# 哪本书超过了10块\n",
    "book_list = jsonpath.jsonpath(obj, '$..book[?(@.price>10)]')\n",
    "\n",
    "pprint(book_list)"
   ]
  }
 ],
 "metadata": {
  "kernelspec": {
   "display_name": "crawler",
   "language": "python",
   "name": "python3"
  },
  "language_info": {
   "codemirror_mode": {
    "name": "ipython",
    "version": 3
   },
   "file_extension": ".py",
   "mimetype": "text/x-python",
   "name": "python",
   "nbconvert_exporter": "python",
   "pygments_lexer": "ipython3",
   "version": "3.7.12"
  }
 },
 "nbformat": 4,
 "nbformat_minor": 2
}
