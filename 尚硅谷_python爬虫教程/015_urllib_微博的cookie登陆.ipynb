{
 "cells": [
  {
   "cell_type": "markdown",
   "metadata": {},
   "source": [
    "# urllib 微博的cookie登陆\n",
    "\n",
    "适用场景：数据采集时，需要绕过登陆，然后进入到某个页面，获取数据。"
   ]
  },
  {
   "cell_type": "code",
   "execution_count": null,
   "metadata": {},
   "outputs": [],
   "source": [
    "import urllib.request\n",
    "\n",
    "url='https://weibo.cn/6451491586/info'\n",
    "\n",
    "headers = {\n",
    "    'user-agent': 'Mozilla/5.0 (Macintosh; Intel Mac OS X 10_15_7) AppleWebKit/537.36 (KHTML, like Gecko) Chrome/131.0.0.0 Safari/537.36'\n",
    "}\n",
    "# 请求对象的定制\n",
    "request = urllib.request.Request(url=url, headers=headers)\n",
    "# 模拟浏览器向服务器发送请求\n",
    "response = urllib.request.urlopen(request)\n",
    "# 获取响应的内容\n",
    "content = response.read().decode('utf-8')\n",
    "\n",
    "# 将数据保存到本地\n",
    "with open('weibo.html', 'w', encoding='utf-8') as fp:\n",
    "    fp.write(content)\n",
    "\n",
    "# 个人信息页面是utf-8  但有时还是报错了编码错误  因为并没有进入到个人信息页面  而是跳转到了登陆页面\n",
    "# 如果登陆页面不是utf-8  那么就会报错\n",
    "# 如果遇到上面情况则需要更改编码方式 repponse.read().decode('目标编码方式')\n",
    "# with open 部分的编码也要改。with open('weibo.html', 'w', encoding='目标编码方式') as fp:"
   ]
  },
  {
   "cell_type": "markdown",
   "metadata": {},
   "source": [
    "但此时会卡在登陆页面，进不去个人信息页面\n",
    "\n",
    "如何绕过登陆页面？\n",
    "\n",
    "什么情况下访问不成功？\n",
    "\n",
    "因为请求头的信息不够\n"
   ]
  },
  {
   "cell_type": "code",
   "execution_count": null,
   "metadata": {},
   "outputs": [],
   "source": [
    "# 进入登录成功的页面获得headers参数\n",
    "# 请求头中带冒号的和accept-encoding 一般不需要\n",
    "# 访问前要看一下要访问的页面（个人信息页面）的编码格式，将两个编码格式改成一样的。\n",
    "\n",
    "headers= {\n",
    "    ...\n",
    "}\n",
    "\n",
    "# 起决定性作用的是cookie，有时候需要referer\n",
    "# cookie中携带着登陆信息    如果有登陆之后的cookie，那么就可以携带着cookie进入任何页面\n",
    "# 将headers换成带有cookie的headers即可\n",
    "\n",
    "# 但有的网站也会通过referer进行防盗链判断。\n",
    "# referer: 做防盗链的。判断当前路径是不是由上一个路径进来的     一般情况下做图片的防盗链"
   ]
  }
 ],
 "metadata": {
  "kernelspec": {
   "display_name": "crawler",
   "language": "python",
   "name": "python3"
  },
  "language_info": {
   "codemirror_mode": {
    "name": "ipython",
    "version": 3
   },
   "file_extension": ".py",
   "mimetype": "text/x-python",
   "name": "python",
   "nbconvert_exporter": "python",
   "pygments_lexer": "ipython3",
   "version": "3.7.7"
  }
 },
 "nbformat": 4,
 "nbformat_minor": 2
}
