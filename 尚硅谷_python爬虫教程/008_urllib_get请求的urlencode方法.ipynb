{
 "cells": [
  {
   "cell_type": "markdown",
   "metadata": {},
   "source": [
    "# urllib get请求的urlencode方法\n",
    "\n",
    "当需要对url中的多个参数进行编码时，可以使用urllib.parse.urlencode方法，将参数字典编码为url的query部分。"
   ]
  },
  {
   "cell_type": "code",
   "execution_count": null,
   "metadata": {},
   "outputs": [],
   "source": [
    "# urlencode 应用场景：多个参数的时候\n",
    "\n",
    "# https://www.baidu.com/s?wd=周杰伦&sex=男\n",
    "\n",
    "import urllib.parse\n",
    "\n",
    "data = {\n",
    "    'wd': '周杰伦',\n",
    "    'sex': '男'\n",
    "}\n",
    "\n",
    "a = urllib.parse.urlencode(data)\n",
    "print(a) # wd=%E5%91%A8%E6%9D%B0%E4%BC%A6&sex=%E7%94%B7"
   ]
  },
  {
   "cell_type": "code",
   "execution_count": null,
   "metadata": {},
   "outputs": [],
   "source": [
    "\n",
    "\n",
    "# 获取 https://www.baidu.com/s?wd=周杰伦&sex=男 的网页源码\n",
    "import urllib.request\n",
    "import urllib.parse\n",
    "\n",
    "base_url = 'https://www.baidu.com/s?'\n",
    "\n",
    "data = {\n",
    "    'wd': '周杰伦',\n",
    "    'sex': '男'\n",
    "}\n",
    "new_data = urllib.parse.urlencode(data)\n",
    "\n",
    "url = base_url + new_data\n",
    "\n",
    "headers = {\n",
    "    'User-Agent': 'Mozilla/5.0 (Macintosh; Intel Mac OS X 10_15_7) AppleWebKit/537.36 (KHTML, like Gecko) Chrome/'\n",
    "}\n",
    "\n",
    "request = urllib.request.Request(url=url, headers=headers)\n",
    "\n",
    "response = urllib.request.urlopen(request)\n",
    "\n",
    "content = response.read().decode('utf-8')\n",
    "\n",
    "print(content)"
   ]
  }
 ],
 "metadata": {
  "language_info": {
   "name": "python"
  }
 },
 "nbformat": 4,
 "nbformat_minor": 2
}
