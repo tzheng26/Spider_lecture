{
 "cells": [
  {
   "cell_type": "markdown",
   "metadata": {},
   "source": [
    "# urllib post请求 百度翻译之详细翻译\n",
    "\n",
    "新反爬机制 headers需要提供其他信息\n",
    "\n",
    "headers 给全就能跑\n",
    "\n",
    "注意有时候会报错，显示编码需要是utf-8，但我们从浏览器上粘到的 headers->'Accept-Encodding'是gzip,deflate,br，这时候我们需要把这个注释掉。\n",
    "\n",
    "通过注释掉不同的headers，我们可以看到反爬机制具体是需要什么信息的。\n",
    "\n",
    "\n"
   ]
  },
  {
   "cell_type": "code",
   "execution_count": null,
   "metadata": {},
   "outputs": [],
   "source": [
    "import urllib.request\n",
    "import urllib.parse\n",
    "\n",
    "# 百度翻译详细翻译接口\n",
    "url = 'https://fanyi.baidu.com/v2transapi?from=en&to=zh'\n",
    "\n",
    "headers = {\n",
    "    \"accept\": \"*/*\",\n",
    "    # \"accept-encoding\": \"gzip, deflate, br, zstd\",\n",
    "    \"accept-language\": \"zh-CN,zh;q=0.9\",\n",
    "    \"connection\": \"keep-alive\",\n",
    "    \"content-length\": \"7\",\n",
    "    \"content-type\": \"application/x-www-form-urlencoded\",\n",
    "    \"cookie\": \"BIDUPSID=67BE5BE17C3224F677373E54744946FB; PSTM=1730338529; BAIDUID=C44E5708642462EF435F2DD38447D0C0:FG=1; H_WISE_SIDS=60274_60854_61004_61027; H_WISE_SIDS_BFESS=60274_60854_61004_61027; H_PS_PSSID=60274_61027_61157_61219_61211_61209_61214_61241_61189_61278; BDORZ=B490B5EBF6F3CD402E515D22BCDA1598; BAIDUID_BFESS=C44E5708642462EF435F2DD38447D0C0:FG=1; delPer=0; PSINO=5; BA_HECTOR=8hal0h81250kak2g208ga525a4cks71jkrnep1v; ZFY=rcj7Tz:Acyzd:Aefy7XD2T:AsihS7U2tCXkWJUS125Vs4w:C; ab_sr=1.0.1_OTNjZmQ2MjM0ODZhNmVlYjkzMzE0NTgyODI4ZTBmMTNiYzgxN2NmNDZlYzI2YjBjYTljZGFjNzZkZWI2ZmE1NGM0NWFiYWJiMjk3NTk4NTg4OWJmZGZiODRiZTFhZGI3ODE5YTJjNzg4MjczN2E2NzFhMDYwYTZkZmU3MmI1ZWUyOWI1MGRmMDUxMGZjMTFlOTg5ZDg2Zjk2MTMwMWU5Yg==; RT=\\\"z=1&dm=baidu.com&si=36f6ae02-58ac-47ef-9c24-0518c7d0caa6&ss=m48b8xta&sl=1&tt=1&bcn=https%3A%2F%2Ffclog.baidu.com%2Flog%2Fweirwood%3Ftype%3Dperf&ld=sd\\\"\",\n",
    "    \"host\": \"fanyi.baidu.com\",\n",
    "    \"origin\": \"https://fanyi.baidu.com\",\n",
    "    \"referer\": \"https://fanyi.baidu.com/mtpe-individual/multimodal\",\n",
    "    \"sec-ch-ua\": \"\\\"Google Chrome\\\";v=\\\"131\\\", \\\"Chromium\\\";v=\\\"131\\\", \\\"Not_A Brand\\\";v=\\\"24\\\"\",\n",
    "    \"sec-ch-ua-mobile\": \"?0\",\n",
    "    \"sec-ch-ua-platform\": \"\\\"macOS\\\"\",\n",
    "    \"sec-fetch-dest\": \"empty\",\n",
    "    \"sec-fetch-mode\": \"cors\",\n",
    "    \"sec-fetch-site\": \"same-origin\",\n",
    "    \"user-agent\": \"Mozilla/5.0 (Macintosh; Intel Mac OS X 10_15_7) AppleWebKit/537.36 (KHTML, like Gecko) Chrome/131.0.0.0 Safari/537.36\"\n",
    "}\n",
    "\n",
    "\n",
    "data = {\n",
    "    'from': 'en',\n",
    "    'to': 'zh',\n",
    "    'query': 'love',\n",
    "    'transtype': 'realtime',\n",
    "    'simple_means_flag': '3',\n",
    "    'sign': '198772.518981',\n",
    "    'token': '5483bfa652979b41f9c90d91f3de875d',\n",
    "    'domain': 'common',\n",
    "}"
   ]
  },
  {
   "cell_type": "code",
   "execution_count": null,
   "metadata": {},
   "outputs": [],
   "source": [
    "# post 请求的参数必须进行编码，并且要调用encode()方法\n",
    "data = urllib.parse.urlencode(data).encode('utf-8')"
   ]
  },
  {
   "cell_type": "code",
   "execution_count": null,
   "metadata": {},
   "outputs": [],
   "source": [
    "# 请求对象的定制\n",
    "request = urllib.request.Request(url=url, data=data, headers=headers)"
   ]
  },
  {
   "cell_type": "code",
   "execution_count": null,
   "metadata": {},
   "outputs": [],
   "source": [
    "# 模拟浏览器向服务器发送请求\n",
    "response = urllib.request.urlopen(request)"
   ]
  },
  {
   "cell_type": "code",
   "execution_count": null,
   "metadata": {},
   "outputs": [],
   "source": [
    "# 获取响应数据\n",
    "content = response.read().decode('utf-8')\n",
    "\n",
    "import json\n",
    "obj = json.loads(content)\n",
    "print(obj)"
   ]
  }
 ],
 "metadata": {
  "kernelspec": {
   "display_name": "crawler",
   "language": "python",
   "name": "python3"
  },
  "language_info": {
   "codemirror_mode": {
    "name": "ipython",
    "version": 3
   },
   "file_extension": ".py",
   "mimetype": "text/x-python",
   "name": "python",
   "nbconvert_exporter": "python",
   "pygments_lexer": "ipython3",
   "version": "3.7.12"
  }
 },
 "nbformat": 4,
 "nbformat_minor": 2
}
