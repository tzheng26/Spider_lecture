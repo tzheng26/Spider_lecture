{
 "cells": [
  {
   "cell_type": "markdown",
   "metadata": {},
   "source": [
    "# urllib post请求 百度翻译之详细翻译\n",
    "\n",
    "新反爬机制 headers需要提供其他信息\n",
    "\n",
    "headers 给全就能跑\n",
    "\n",
    "注意有时候会报错，显示编码需要是utf-8，但我们从浏览器上粘到的 headers->'Accept-Encodding'是gzip,deflate,br，这时候我们需要把这个注释掉。\n",
    "\n",
    "通过注释掉不同的headers，我们可以看到反爬机制具体是需要什么信息的。\n",
    "\n",
    "\n"
   ]
  },
  {
   "cell_type": "code",
   "execution_count": null,
   "metadata": {},
   "outputs": [],
   "source": [
    "import urllib.request\n",
    "import urllib.parse\n",
    "\n",
    "# 百度翻译详细翻译接口\n",
    "url = 'https://fanyi.baidu.com/v2transapi?from=en&to=zh'\n",
    "\n",
    "headers = {\n",
    "    \"accept\": \"*/*\",\n",
    "    # \"accept-encoding\": \"gzip, deflate, br, zstd\",\n",
    "    \"accept-language\": \"zh-CN,zh;q=0.9\",\n",
    "    \"connection\": \"keep-alive\",\n",
    "    \"content-length\": \"7\",\n",
    "    \"content-type\": \"application/x-www-form-urlencoded\",\n",
    "    \"cookie\": \"BIDUPSID=......\",\n",
    "    \"host\": \"fanyi.baidu.com\",\n",
    "    \"origin\": \"https://fanyi.baidu.com\",\n",
    "    \"referer\": \"https://fanyi.baidu.com/mtpe-individual/multimodal\",\n",
    "    \"sec-ch-ua\": \"\\\"Google Chrome\\\";v=\\\"131\\\", \\\"Chromium\\\";v=\\\"131\\\", \\\"Not_A Brand\\\";v=\\\"24\\\"\",\n",
    "    \"sec-ch-ua-mobile\": \"?0\",\n",
    "    \"sec-ch-ua-platform\": \"\\\"macOS\\\"\",\n",
    "    \"sec-fetch-dest\": \"empty\",\n",
    "    \"sec-fetch-mode\": \"cors\",\n",
    "    \"sec-fetch-site\": \"same-origin\",\n",
    "    \"user-agent\": \"Mozilla/5.0 (Macintosh; Intel Mac OS X 10_15_7) AppleWebKit/537.36 (KHTML, like Gecko) Chrome/131.0.0.0 Safari/537.36\"\n",
    "}\n",
    "\n",
    "\n",
    "data = {\n",
    "    'from': 'en',\n",
    "    'to': 'zh',\n",
    "    'query': 'love',\n",
    "    'transtype': 'realtime',\n",
    "    'simple_means_flag': '3',\n",
    "    'sign': '198772.518981',\n",
    "    'token': '5483bfa652979b41f9c90d91f3de875d',\n",
    "    'domain': 'common',\n",
    "}"
   ]
  },
  {
   "cell_type": "code",
   "execution_count": null,
   "metadata": {},
   "outputs": [],
   "source": [
    "# post 请求的参数必须进行编码，并且要调用encode()方法\n",
    "data = urllib.parse.urlencode(data).encode('utf-8')"
   ]
  },
  {
   "cell_type": "code",
   "execution_count": null,
   "metadata": {},
   "outputs": [],
   "source": [
    "# 请求对象的定制\n",
    "request = urllib.request.Request(url=url, data=data, headers=headers)"
   ]
  },
  {
   "cell_type": "code",
   "execution_count": null,
   "metadata": {},
   "outputs": [],
   "source": [
    "# 模拟浏览器向服务器发送请求\n",
    "response = urllib.request.urlopen(request)"
   ]
  },
  {
   "cell_type": "code",
   "execution_count": null,
   "metadata": {},
   "outputs": [],
   "source": [
    "# 获取响应数据\n",
    "content = response.read().decode('utf-8')\n",
    "\n",
    "import json\n",
    "obj = json.loads(content)\n",
    "print(obj)"
   ]
  }
 ],
 "metadata": {
  "kernelspec": {
   "display_name": "crawler",
   "language": "python",
   "name": "python3"
  },
  "language_info": {
   "codemirror_mode": {
    "name": "ipython",
    "version": 3
   },
   "file_extension": ".py",
   "mimetype": "text/x-python",
   "name": "python",
   "nbconvert_exporter": "python",
   "pygments_lexer": "ipython3",
   "version": "3.7.12"
  }
 },
 "nbformat": 4,
 "nbformat_minor": 2
}
