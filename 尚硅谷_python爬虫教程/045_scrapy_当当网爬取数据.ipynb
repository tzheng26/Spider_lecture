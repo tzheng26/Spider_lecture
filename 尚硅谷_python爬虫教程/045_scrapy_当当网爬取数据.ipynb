{
 "cells": [
  {
   "cell_type": "markdown",
   "metadata": {},
   "source": [
    "# scrapy 当当网爬取数据"
   ]
  },
  {
   "cell_type": "code",
   "execution_count": null,
   "metadata": {
    "vscode": {
     "languageId": "shellscript"
    }
   },
   "outputs": [],
   "source": [
    "scrapy startproject scrapy_dangdang_045\n",
    "\n",
    "cd scrapy_dangdang_045/scrapy_dangdang_045/spiders\n",
    "\n",
    "scrapy genspider dang https://category.dangdang.com/cp01.01.02.00.00.00.html"
   ]
  },
  {
   "cell_type": "code",
   "execution_count": null,
   "metadata": {},
   "outputs": [],
   "source": [
    "# scrapy_dangdang_045/scrapy_dangdang_045/spiders/dang.py\n",
    "import scrapy\n",
    "\n",
    "\n",
    "class DangSpider(scrapy.Spider):\n",
    "    name = \"dang\"\n",
    "    allowed_domains = [\"category.dangdang.com\"]\n",
    "    start_urls = [\"https://category.dangdang.com/cp01.01.02.00.00.00.html\"]\n",
    "\n",
    "    def parse(self, response):\n",
    "        # pipelines.py    下载数据\n",
    "        # items.py``      定义数据结构\n",
    "\n",
    "        # src = //ul[@id=\"component_59\"]/li//img/@src\n",
    "        # name = //ul[@id=\"component_59\"]/li//img/@alt\n",
    "        # price = //ul[@id=\"component_59\"]/li//p[@class=\"price\"]/span[1]/text() # 第一个span\n",
    "        \n",
    "        # 所有的selector的对象都可以再次调用xpath方法\n",
    "        li_list = response.xpath('//ul[@id=\"component_59\"]/li')\n",
    "        for li in li_list:\n",
    "            # 图片有懒加载，这里要用data-original 而不是src（有的是src2）\n",
    "            src = li.xpath('.//img/@data-original').extract_first()\n",
    "            # 第一张图片和其他的图片标签属性不一样\n",
    "            # 第一张图片的src是可以使用的  其他的图片的地址是data-original\n",
    "            if src:\n",
    "                src = src\n",
    "            else:\n",
    "                src = li.xpath('.//img/@src').extract_first()\n",
    "\n",
    "            name = li.xpath('.//img/@alt').extract_first()\n",
    "            price = li.xpath('.//p[@class=\"price\"]/span[1]/text()').extract_first()\n",
    "            print(src, name, price)"
   ]
  },
  {
   "cell_type": "code",
   "execution_count": null,
   "metadata": {},
   "outputs": [],
   "source": [
    "# scrapy_dangdang_045/scrapy_dangdang_045/items.py\n",
    "\n",
    "# Define here the models for your scraped items\n",
    "#\n",
    "# See documentation in:\n",
    "# https://docs.scrapy.org/en/latest/topics/items.html\n",
    "\n",
    "import scrapy\n",
    "\n",
    "\n",
    "class ScrapyDangdang045Item(scrapy.Item):\n",
    "    # define the fields for your item here like:\n",
    "    # name = scrapy.Field()\n",
    "    # 通俗的说就是你要下载的数据都有什么\n",
    "\n",
    "    # 图片\n",
    "    src = scrapy.Field()\n",
    "    # 书名\n",
    "    name = scrapy.Field()\n",
    "    # 价格\n",
    "    price = scrapy.Field()\n",
    "    pass\n"
   ]
  }
 ],
 "metadata": {
  "kernelspec": {
   "display_name": "scrapy",
   "language": "python",
   "name": "python3"
  },
  "language_info": {
   "name": "python",
   "version": "3.13.1"
  }
 },
 "nbformat": 4,
 "nbformat_minor": 2
}
