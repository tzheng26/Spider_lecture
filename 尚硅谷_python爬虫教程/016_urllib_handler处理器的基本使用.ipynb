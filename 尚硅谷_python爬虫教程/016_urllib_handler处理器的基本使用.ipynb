{
 "cells": [
  {
   "cell_type": "markdown",
   "metadata": {
    "vscode": {
     "languageId": "plaintext"
    }
   },
   "source": [
    "# urllib handler处理器的基本使用\n",
    "\n",
    "为什么要学习handler?\n",
    "\n",
    "    urllib.request.urlopen(url)\n",
    "        不能定制请求头\n",
    "    urllib.request.Request(url, data, headers)\n",
    "        可以定制请求头\n",
    "    Handler\n",
    "        定制更高级的请求头（随着业务逻辑的复杂 请求对象的定制已经满足不了我们的需求（动态cookie和代理不能使用请求对象的定制））"
   ]
  },
  {
   "cell_type": "code",
   "execution_count": null,
   "metadata": {},
   "outputs": [],
   "source": [
    "# 需求：使用handler来访问百度，获取网页源码\n",
    "import urllib.request\n",
    "\n",
    "url = 'http://www.baidu.com'\n",
    "\n",
    "headers = {\n",
    "    'user-agent': 'Mozilla/5.0 (Macintosh; Intel Mac OS X 10_15_7) AppleWebKit/537.36 (KHTML, like Gecko) Chrome/131.0.0.0 Safari/537.36'\n",
    "}\n",
    "\n",
    "request = urllib.request.Request(url=url, headers=headers)\n",
    "\n",
    "# handler   build_opener   open\n",
    "\n",
    "# (1) 获取handler对象\n",
    "handler = urllib.request.HTTPHandler()\n",
    "\n",
    "# (2) 获取opener对象\n",
    "opener = urllib.request.build_opener(handler)\n",
    "\n",
    "# (3) 调用open方法\n",
    "response = opener.open(request)\n",
    "\n",
    "content = response.read().decode('utf-8')\n",
    "\n",
    "print(content)"
   ]
  }
 ],
 "metadata": {
  "language_info": {
   "name": "python"
  }
 },
 "nbformat": 4,
 "nbformat_minor": 2
}
