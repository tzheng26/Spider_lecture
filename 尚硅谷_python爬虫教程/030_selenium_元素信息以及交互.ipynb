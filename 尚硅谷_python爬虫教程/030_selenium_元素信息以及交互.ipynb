{
 "cells": [
  {
   "cell_type": "markdown",
   "metadata": {},
   "source": [
    "# selenium_元素信息以及交互"
   ]
  },
  {
   "cell_type": "code",
   "execution_count": 7,
   "metadata": {},
   "outputs": [],
   "source": [
    "# chrome 和 chromedriver 下载下来的位置：\n",
    "# ~/chrome-linux64/chrome 和 ~/chromedriver-linux64/chromedriver\n",
    "\n",
    "# 导入selenium\n",
    "import os.path\n",
    "from selenium import webdriver\n",
    "from selenium.webdriver.chrome.service import Service\n",
    "from selenium.webdriver.common.by import By\n",
    "from selenium.webdriver.chrome.options import Options\n",
    "\n",
    "## Setup chrome options\n",
    "chrome_options = Options()\n",
    "chrome_options.add_argument(\"--headless\")  # Ensure GUI is off\n",
    "chrome_options.add_argument(\"--no-sandbox\")\n",
    "\n",
    "# Set path to chrome and chromedriver as per your configuration\n",
    "homedir = os.path.expanduser(\"~\")\n",
    "chrome_options.binary_location = f\"{homedir}/chrome-linux64/chrome\"\n",
    "webdriver_service = Service(f\"{homedir}/chromedriver-linux64/chromedriver\")\n",
    "\n",
    "# 创建浏览器操作对象\n",
    "browser = webdriver.Chrome(service=webdriver_service, options=chrome_options)\n",
    "\n",
    "# Get page\n",
    "url = \"https://www.baidu.com\"\n",
    "browser.get(url)\n",
    "\n"
   ]
  },
  {
   "cell_type": "code",
   "execution_count": null,
   "metadata": {},
   "outputs": [
    {
     "name": "stdout",
     "output_type": "stream",
     "text": [
      "bg s_btn\n",
      "input\n",
      "\n",
      "新闻\n"
     ]
    }
   ],
   "source": [
    "# 获取元素属性\n",
    "# <input type=\"submit\" id=\"su\" value=\"百度一下\" class=\"bg s_btn\">\n",
    "input = browser.find_element(By.ID, \"su\")\n",
    "\n",
    "# 获取标签某属性的值\n",
    "print(input.get_attribute(\"class\"))\n",
    "# 获取标签的名字\n",
    "print(input.tag_name)\n",
    "\n",
    "# 获取元素文本 # <div>text<div/>\n",
    "print(input.text)\n",
    "# <a href=\"http://news.baidu.com\" target=\"_blank\" class=\"mnav c-font-normal c-color-t\">新闻</a>\n",
    "a = browser.find_element(By.LINK_TEXT, \"新闻\")\n",
    "print(a.text)\n"
   ]
  },
  {
   "cell_type": "code",
   "execution_count": null,
   "metadata": {},
   "outputs": [],
   "source": [
    "\n",
    "browser.quit()"
   ]
  }
 ],
 "metadata": {
  "kernelspec": {
   "display_name": "crawler",
   "language": "python",
   "name": "python3"
  },
  "language_info": {
   "codemirror_mode": {
    "name": "ipython",
    "version": 3
   },
   "file_extension": ".py",
   "mimetype": "text/x-python",
   "name": "python",
   "nbconvert_exporter": "python",
   "pygments_lexer": "ipython3",
   "version": "3.7.12"
  }
 },
 "nbformat": 4,
 "nbformat_minor": 2
}
