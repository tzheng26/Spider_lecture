{
 "cells": [
  {
   "cell_type": "markdown",
   "metadata": {},
   "source": [
    "# selenium 交互"
   ]
  },
  {
   "cell_type": "code",
   "execution_count": 1,
   "metadata": {},
   "outputs": [],
   "source": [
    "# chrome 和 chromedriver 下载下来的位置：\n",
    "# ~/chrome-linux64/chrome 和 ~/chromedriver-linux64/chromedriver\n",
    "\n",
    "# 导入selenium\n",
    "import os.path\n",
    "from selenium import webdriver\n",
    "from selenium.webdriver.chrome.service import Service\n",
    "from selenium.webdriver.common.by import By\n",
    "from selenium.webdriver.chrome.options import Options\n",
    "\n",
    "## Setup chrome options\n",
    "chrome_options = Options()\n",
    "chrome_options.add_argument(\"--headless\")  # Ensure GUI is off\n",
    "chrome_options.add_argument(\"--no-sandbox\")\n",
    "\n",
    "# Set path to chrome and chromedriver as per your configuration\n",
    "homedir = os.path.expanduser(\"~\")\n",
    "chrome_options.binary_location = f\"{homedir}/chrome-linux64/chrome\"\n",
    "webdriver_service = Service(f\"{homedir}/chromedriver-linux64/chromedriver\")\n",
    "\n",
    "# 创建浏览器操作对象\n",
    "browser = webdriver.Chrome(service=webdriver_service, options=chrome_options)\n",
    "\n",
    "# Get page\n",
    "url = \"https://www.baidu.com\"\n",
    "browser.get(url)"
   ]
  },
  {
   "cell_type": "code",
   "execution_count": 3,
   "metadata": {},
   "outputs": [],
   "source": [
    "import time\n",
    "\n",
    "time.sleep(2)\n",
    "\n",
    "# 获取百度首页的搜索框对象\n",
    "input = browser.find_element(By.ID, \"kw\")\n",
    "\n",
    "# 在百度文本框中输入内容:\"周杰伦\"\n",
    "input.send_keys(\"周杰伦\")\n",
    "\n",
    "time.sleep(2)\n",
    "\n",
    "# 获取百度一下的按钮对象\n",
    "button = browser.find_element(By.ID, \"su\")\n",
    "\n",
    "# 点击按钮\n",
    "button.click()\n",
    "\n",
    "time.sleep(2)\n",
    "\n",
    "# 滑到底部\n",
    "js_bottom = 'document.documentElement.scrollTop=100000'\n",
    "browser.execute_script(js_bottom)\n",
    "\n",
    "time.sleep(2)\n",
    "\n",
    "# 获取下一页的按钮\n",
    "next = browser.find_element(By.XPATH, '//a[@class=\"n\"]')\n",
    "\n",
    "# 点击下一页\n",
    "next.click()\n",
    "\n",
    "time.sleep(2)\n",
    "\n",
    "# 回到上一页\n",
    "browser.back()\n",
    "\n",
    "time.sleep(2)\n",
    "\n",
    "# 回去\n",
    "browser.forward()\n",
    "\n",
    "time.sleep(3)\n",
    "\n",
    "# 关闭浏览器\n",
    "browser.quit()\n"
   ]
  }
 ],
 "metadata": {
  "kernelspec": {
   "display_name": "crawler",
   "language": "python",
   "name": "python3"
  },
  "language_info": {
   "codemirror_mode": {
    "name": "ipython",
    "version": 3
   },
   "file_extension": ".py",
   "mimetype": "text/x-python",
   "name": "python",
   "nbconvert_exporter": "python",
   "pygments_lexer": "ipython3",
   "version": "3.7.12"
  }
 },
 "nbformat": 4,
 "nbformat_minor": 2
}
