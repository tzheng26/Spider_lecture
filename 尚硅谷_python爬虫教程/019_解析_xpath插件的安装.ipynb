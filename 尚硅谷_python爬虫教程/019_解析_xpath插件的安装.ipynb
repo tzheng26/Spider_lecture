{
 "cells": [
  {
   "cell_type": "markdown",
   "metadata": {},
   "source": [
    "# 解析 xpath插件的安装\n",
    "\n",
    "目前用的比较多的解析工具\n",
    "获取网页源码中的部分内容\n",
    "- xpath\n",
    "- JsonPath\n",
    "- BeautifulSoup"
   ]
  },
  {
   "cell_type": "markdown",
   "metadata": {},
   "source": [
    "安装xpath\n",
    "\n",
    "谷歌扩展商店搜索xpath helper安装。\n",
    "\n",
    "（可能需要重新打开浏览器）\n",
    "\n",
    "ctrl(command)+ shift + x 打开xpath插件\n",
    "\n",
    "出现小黑框证明安装成功"
   ]
  }
 ],
 "metadata": {
  "language_info": {
   "name": "python"
  }
 },
 "nbformat": 4,
 "nbformat_minor": 2
}
