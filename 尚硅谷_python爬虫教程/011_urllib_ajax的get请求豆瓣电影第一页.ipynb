{
 "cells": [
  {
   "cell_type": "markdown",
   "metadata": {},
   "source": [
    "# urllib ajax的get请求豆瓣电影第一页\n",
    "\n"
   ]
  },
  {
   "cell_type": "code",
   "execution_count": null,
   "metadata": {},
   "outputs": [],
   "source": [
    "# get请求\n",
    "# 获取豆瓣电影的第一页的数据 并且保存起来\n",
    "\n",
    "import urllib.request\n",
    "\n",
    "url = 'https://movie.douban.com/j/chart/top_list?type=5&interval_id=100%3A90&action=&start=0&limit=20'\n",
    "\n",
    "headers = {\n",
    "    'user-agent': 'Mozilla/5.0 (Macintosh; Intel Mac OS X 10_15_7) AppleWebKit/537.36 (KHTML, like Gecko) Chrome/131.0.0.0 Safari/537.36'\n",
    "}"
   ]
  },
  {
   "cell_type": "code",
   "execution_count": null,
   "metadata": {},
   "outputs": [],
   "source": [
    "# (1) 请求对象的定制\n",
    "request = urllib.request.Request(url=url, headers=headers)\n",
    "\n",
    "# (2) 获取响应的数据\n",
    "repsonse = urllib.request.urlopen(request)\n",
    "content = repsonse.read().decode('utf-8')\n",
    "print(content)"
   ]
  },
  {
   "cell_type": "code",
   "execution_count": null,
   "metadata": {},
   "outputs": [],
   "source": [
    "# (3) 数据下载到本地\n",
    "# open方法默认使用gbk的编码，如果想保存汉字，需要指定encoding='utf-8' 支持中文\n",
    "with open('douban.json', 'w', encoding='utf-8') as fp:\n",
    "    fp.write(content)"
   ]
  }
 ],
 "metadata": {
  "kernelspec": {
   "display_name": "crawler",
   "language": "python",
   "name": "python3"
  },
  "language_info": {
   "codemirror_mode": {
    "name": "ipython",
    "version": 3
   },
   "file_extension": ".py",
   "mimetype": "text/x-python",
   "name": "python",
   "nbconvert_exporter": "python",
   "pygments_lexer": "ipython3",
   "version": "3.7.12"
  }
 },
 "nbformat": 4,
 "nbformat_minor": 2
}
