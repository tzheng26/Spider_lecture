{
 "cells": [
  {
   "cell_type": "markdown",
   "metadata": {},
   "source": [
    "# Scrapy 安装\n",
    "\n",
    "1. Scrapy是什么？\n",
    "   \n",
    "   Scrapy是一个为了爬取网站数据，提取结构性数据而编写的应用框架。 可以应用在包括数据挖掘，信息处理或存储历史数据等一系列的程序中。\n",
    "   \n",
    "2. Scrapy的安装\n",
    "   \n",
    "   ```\n",
    "   pip install scrapy\n",
    "   ```\n",
    "\n",
    "   如果太慢可以换源 `pip install scrapy -i https://pypi.tuna.tsinghua.edu.cn/simple`\n",
    "\n",
    "   安装过程中可能出错（我的没有报错，但这里也是根据课程的介绍写一下报错的原因和解决方法）\n",
    "\n",
    "   报错1（缺少scrapy依赖的库）：     \n",
    "      building 'twisted.test.raiser' extension error: Microsoft Visual C++ 14.0 is required. Get it with \"Microsoft Visual C++ Build Tools\": https://visualstudio.microsoft.com/visual-cpp-build-tools/  \n",
    "   解决1：  \n",
    "      http://www.lfd.uci.edu/~gohlke/pythonlibs/#twisted   \n",
    "      下载对应版本的twisted安装包：  \n",
    "      twisted‑18.9.0‑cp37‑cp37m‑win_amd64.whl  \n",
    "      cp后面是python版本       \n",
    "      win_amd64是系统版本  \n",
    "      下载完成之后使用 pip install twisted路径 安装  \n",
    "      e.g. `pip install twisted‑18.9.0‑cp37‑cp37m‑win_amd64.whl`安装  \n",
    "      切记安装完twisted之后再安装scrapy\n",
    "\n",
    "   报错2：提示python -m pip install --upgrade pip  \n",
    "   解决2：运行python -m pip install --upgrade pip\n",
    "\n",
    "   报错3：win32的错误  \n",
    "   解决3：pip install pypiwin32\n",
    "\n",
    "   报错4：Others  \n",
    "   解决4：使用Anaconda\n",
    "   \n",
    "\n"
   ]
  }
 ],
 "metadata": {
  "language_info": {
   "name": "python"
  }
 },
 "nbformat": 4,
 "nbformat_minor": 2
}
