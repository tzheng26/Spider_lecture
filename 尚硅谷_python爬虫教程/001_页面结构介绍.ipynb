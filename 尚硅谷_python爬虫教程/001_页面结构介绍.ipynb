{
 "cells": [
  {
   "cell_type": "markdown",
   "metadata": {},
   "source": [
    "# 页面结构介绍-HTML"
   ]
  },
  {
   "cell_type": "markdown",
   "metadata": {
    "vscode": {
     "languageId": "html"
    }
   },
   "source": [
    "[VScode如何在浏览器中打开html文件](https://juejin.cn/post/6844903842597830664)"
   ]
  },
  {
   "cell_type": "code",
   "execution_count": null,
   "metadata": {
    "vscode": {
     "languageId": "html"
    }
   },
   "outputs": [],
   "source": [
    "<!DOCTYPE html>\n",
    "<html lang=\"en\">\n",
    "\n",
    "<head>\n",
    "    <meta charset=\"UTF-8\">\n",
    "    <title>Title</title>\n",
    "</head>\n",
    "\n",
    "<body>\n",
    "    <!--    table   表格\n",
    "            tr      行\n",
    "            td      列\n",
    "    -->\n",
    "    <table>\n",
    "        <tr>\n",
    "            <td>姓名</td>\n",
    "            <td>年龄</td>\n",
    "            <td>性别</td>\n",
    "        </tr>\n",
    "        <tr>\n",
    "            <td>张三</td>\n",
    "            <td>20</td>\n",
    "            <td>男</td>\n",
    "        </tr>\n",
    "    </table>\n",
    "</body>\n",
    "\n",
    "</html>"
   ]
  }
 ],
 "metadata": {
  "kernelspec": {
   "display_name": "crawler",
   "language": "python",
   "name": "python3"
  },
  "language_info": {
   "name": "python",
   "version": "3.7.12"
  }
 },
 "nbformat": 4,
 "nbformat_minor": 2
}
