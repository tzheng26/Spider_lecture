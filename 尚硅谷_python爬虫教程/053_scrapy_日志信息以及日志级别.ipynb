{
 "cells": [
  {
   "cell_type": "markdown",
   "metadata": {},
   "source": [
    "# scrapy_日志信息以及日志级别"
   ]
  },
  {
   "cell_type": "markdown",
   "metadata": {},
   "source": [
    "## 日志信息和日志等级\n",
    "\n",
    "1. 日志级别：\n",
    "\n",
    "    CRITICAL    - 严重错误\n",
    "\n",
    "    ERROR       - 一般错误\n",
    "\n",
    "    WARNING     - 警告信息\n",
    "\n",
    "    INFO        - 一般信息\n",
    "    \n",
    "    DEBUG       - 调试信息\n",
    "\n",
    "    默认的日志等级是 DEBUG  \n",
    "    只要出现了DEBUG或DEBUG以上等级的日志  \n",
    "    那么这些日志将会打印\n",
    "\n",
    "2. settings.py 文件设置：\n",
    "\n",
    "    默认的级别为 DEBUG，会显示上面所有的信息\n",
    "    \n",
    "    在配置文件中 settings.py\n",
    "\n",
    "    LOG_FILE : 将屏幕显示的信息全部记录到文件中，屏幕不再显示，注意文件后缀一定是.log\n",
    "\n",
    "    LOG_LEVEL : 设置日志显示的级别，即显示哪些，不显示哪些"
   ]
  },
  {
   "cell_type": "code",
   "execution_count": null,
   "metadata": {
    "vscode": {
     "languageId": "shellscript"
    }
   },
   "outputs": [],
   "source": [
    "scrapy startproject scrapy_log_053\n",
    "\n",
    "cd scrapy_log_053/scrapy_log_053/spiders/\n",
    "\n",
    "scrapy genspider log www.baidu.com\n",
    "\n",
    "\n",
    "# 注释掉settings.py中的ROBOTSTXT_OBEY = True\n",
    "ROBOTSTXT_OBEY = True"
   ]
  },
  {
   "cell_type": "code",
   "execution_count": null,
   "metadata": {},
   "outputs": [],
   "source": [
    "# scrapy_log_053/scrapy_log_053/settings.py\n",
    "\n",
    "# 指定日志的级别\n",
    "# LOG_LEVEL = \"WARNING\"\n",
    "LOG_FILE = \"logdemo.log\" # 在spiders目录下生成日志文件，每次运行的日志都会追加到这个文件中"
   ]
  }
 ],
 "metadata": {
  "language_info": {
   "name": "python"
  }
 },
 "nbformat": 4,
 "nbformat_minor": 2
}
