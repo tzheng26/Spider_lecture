{
 "cells": [
  {
   "cell_type": "markdown",
   "metadata": {},
   "source": [
    "# scrapy scrapyshell\n"
   ]
  },
  {
   "cell_type": "markdown",
   "metadata": {},
   "source": [
    "## 什么是scrapy shell?\n",
    "\n",
    "Scrapy终端是一个交互终端，供您在未启动spider的情况下尝试及调试您的爬取代码。 其本意是用来测试提取数据的代码，不过您可以将其作为正常的Python终端，在上面测试任何的Python代码。\n",
    "\n",
    "该终端是用来测试XPath或CSS表达式，查看他们的工作方式及从爬取的网页中提取的数据。 在编写您的spider时，该终端提供了交互性测试您的表达式代码的功能，免去了每次修改后运行spider的麻烦。\n",
    "\n",
    "一旦熟悉了Scrapy终端后，您会发现其在开发和调试spider时发挥的巨大作用。"
   ]
  },
  {
   "cell_type": "markdown",
   "metadata": {},
   "source": [
    "## 安装 ipython\n",
    "\n",
    "安装：pip install ipython\n",
    "简介：如果您安装了IPython，scrapy shell将使用IPython（替代标准Python终端）。IPython终端与其他相比更为强大，提供智能的自动补全，高亮输出，及其他特性"
   ]
  },
  {
   "cell_type": "code",
   "execution_count": null,
   "metadata": {},
   "outputs": [],
   "source": [
    "# 进入到scrapy shell的终端：直接在终端中输入scrapy shell 域名\n",
    "\n",
    "# 如果想看到一些高亮 或者 自动补全  那么可以安装ipython： pip install ipython"
   ]
  },
  {
   "cell_type": "code",
   "execution_count": null,
   "metadata": {
    "vscode": {
     "languageId": "shellscript"
    }
   },
   "outputs": [],
   "source": [
    "scrapy shell www.baidu.com"
   ]
  }
 ],
 "metadata": {
  "language_info": {
   "name": "python"
  }
 },
 "nbformat": 4,
 "nbformat_minor": 2
}
